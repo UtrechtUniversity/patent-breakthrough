{
 "cells": [
  {
   "cell_type": "code",
   "execution_count": 1,
   "id": "3adfcd87",
   "metadata": {},
   "outputs": [],
   "source": [
    "import pandas as pd\n",
    "import json\n",
    "import time\n",
    "import os\n",
    "import dill\n",
    "from docembedder.bert import BERTEmbedder\n",
    "from docembedder.analysis import DOCSimilarity\n",
    "from docembedder.preparation import DOCPreparation"
   ]
  },
  {
   "cell_type": "code",
   "execution_count": 5,
   "id": "c356feb0",
   "metadata": {},
   "outputs": [],
   "source": [
    "# Read and preprocess Patent's documents\n",
    "patent_document = DOCPreparation()\n",
    "patent_df = patent_document.read_patents()\n",
    "\n",
    "# Do some preprocessing here"
   ]
  },
  {
   "cell_type": "code",
   "execution_count": 6,
   "id": "3c58f4a8",
   "metadata": {},
   "outputs": [],
   "source": [
    "# Make doc vectors using BERT\n",
    "patent_embedder = BERTEmbedder()\n",
    "\n",
    "# Fit the model and save the document embeddings\n",
    "# patent_embedder.fit(patent_df)\n",
    "\n",
    "# # Load saved doc vectors- remove this block later\n",
    "# path = os.path.abspath('models/document_embeddings.model')\n",
    "# with open(path, 'rb') as f:\n",
    "#     document_embeddings = dill.load(f)\n",
    "    \n",
    "# create look-up-table\n",
    "patant_analyser = DOCSimilarity()\n",
    "look_up_table = patant_analyser.create_similarity_matrix()\n",
    "\n"
   ]
  },
  {
   "cell_type": "code",
   "execution_count": 7,
   "id": "ffbc878c",
   "metadata": {},
   "outputs": [
    {
     "name": "stdout",
     "output_type": "stream",
     "text": [
      "Document: /5 Az izz . A 2zzZe /Zee/ A 2zzezzez ?ez. 6. /853. UNITED STATES PATENT OFFICE. BENJAMIN IRVING, OF GREEN POINT, NEW YORK. IMPROVED PADDLE-WHEEL. Specification forming part of Letters Patent No. 10,000, dated September 6, 1853. - To all uhon itt may concertv: the rhombic form, inasmuch as the side an . Be it known that I, BENJAMIN IRVING, of gles are cut off, and the figure is made six Green Point, in the county of Kings and State sided, as shown in Fig. 4. The best material of New York, have invented a new and use for the floats is sheet-iron, and the several ful Improvement in Paddle-Wheels for Pro floats may be united together and to the pelling Vessels; and I do hereby declare that rings C C by bolts or rivets. The number of the following is a full, clear, and exact de buckets will depend upon the width of the scription of the same, reference being had to wheel. The width of the wheel shown in the accompanying drawings, forming part of cludes three buckets, which I consider to be this specification, in which about the proper number, though it may be Figurelis a section in a plane perpendicu varied. A number of half-buckets of trian  lar to the axis of a paddle-wheel constructed gular form will be formed unavoidably close according to my invention. Fig. 2 is a front inside the rings, if rings are used, which may not be absolutely necessary, as the wheel view of the same. Fig. 3 shows a number of floats detached from the wheel for the pur could be made of sufficient strength by unit pose of exhibiting their form more clearly. ing the floats and arms. Ido not confine my Fig, 4 represents one of the buckets as seen self to the angle above stated for the floats, but have merely given that which I at pres from the inside of the wheel. Similar letters of reference indicate corre ent consider to bebest. This wheel acts upon sponding parts in the Several figures. the water with a constant succession of floats The nature of this invention consists in ar united to form the letter V. It is true that ranging and combining the floats in such a other wheels have floats united to produce this form; but the peculiarity of thisarrange manner that they form a continuous Series of i rhomb-shaped buckets all round the wheel. ment is that while every float acts upon the  The object of this mode of arranging and water with propulsive effect it is at the same combining the floats is to prevent violent con time effective in holding together in a solid cussions when they strike the water and to body the water upon which the float which hold the water upon which they act in an un immediately succeeds it acts. In other words, broken body, and thereby to render theirac the peculiarity may be said to consist in a tion more effective than that of the floats as combination of successive series of rhomb I commonly arranged. shaped close buckets, of which the two front sides of the rhomb give a propulsive effect, To enable those skilled in the art to make and use : my invention, I will proceed to de while the two back sides prevent the break scribe its construction and operation. ing up of the water upon which they act and The frame of the wheel, consisting of the the consequent loss of their effect, the said hub A, arms BB, and rings CC, may be con back sides also forming the front sides or propelling parts of succeeding buckets. structed in the usual manner, and strength ened by oblique stays a a. It will be better The operation of this wheel is the same in to makes the rings C. C. of a width equal to .. whichever direction it turns, and thereforeit the whole depth of the floats. The floats D will propel backward as well as forward. It Dare arranged with theirouter edges in lines can be made of great strength, as it is self running spirally round the wheelin opposite bracing. directions at angles of about Seventy-five de | What I claim as my invention, and desire 'grees to the axis, the crossing of the said lines secure by Letters Patent, is forming a number of rhomb-shaped buckets Arranging and combining the floats so as EE, which havenoopenings excepttoward and to form a series of buckets of rhombic or Sub from the center of the wheel. The inner stantially similar form, as and for the pur openings of the buckets are contracted end pose herein set forth. wise (see Fig. 1) for the purpose of giving the front angle such a form as to prevent back-lift in rising from the water, which makes the said inner opening depart from S. H. WALES, EL. POLHAMUS. Witnesses: BENJAMIN IRVING.\n",
      "\n",
      "\n",
      "Most similar Document:\n",
      "\n",
      "\n",
      "Document: R, WASKEY, Smut Mill, No. 10,052, Patented Sept. 27, 1853, Fl III III I A Zo 2 SN NZ s 2 % aw Hel Yi PNS ft (2. 2 % a UNITED STATES PATENT OFFICE. ROBERT WASKEY, OF MILL CREEK, VIRGINIA. SMU-MACHINE. Specification of Letters Patent No. 10,052, dated September 27, 1853. To all whom, it may concern, Be it known that I, ROBERT WASKEY, of Mill Creek, in the county of Botetourt and State of Wirginia, have invented a new and useful improvement in Smut-Machines; and I do hereby declare that the following is a full, clear, and exact description of the con struction and operation of the same, refer ence being had to the annexed drawings, forming part of this specification, in which Figure 1 is a rear elevation of the ma chine. Fig. 2 is a vertical section through the axis of the machine. Fig. 3 is a hori ZOntal section upon the line a Q of Fig. 2. Fig. 4 is a vertical section upon the line gy sy of Fig. 3. Similar letters of reference in the several figures denote the same part of the machine. My invention consists in inserting be tween the head of the beating cylinder and the fan chamber, a diaphragm with inclined openings, for the purpose of preventing the grain from being carried off with the smut by the action of the blast during the opera tion of cleaning. In the drawings A is the beating cylinder, revolving in the chamber B, and having its surface armed with the beaters b. On the sides of the chamber B are the ribs a, which with the beaters b form the portion of the machine which loosens the Smut from the grain. C is the shaft which holds the fan D and cylinder A, the former revolving in the chamber E, which is furnished with the door a for graduating the amount of draft. Between the fan chamber E and the head of the cylinder A is the diaphragm F hav ing the opening din the center for the pas sage of the shaft C, and between the ring e and sides of the chamber B the inclined par 10 15 25 30 35 40 Witnesses: WM. P. ELLIOT, ROBT. M. WADE. titions f, forming the openingsh. Below the chamber B is the hopper Hopen at the bot tom, through this opening enters the supply of air to fill the vacuum created by the fan. The operation of my machine is as foll lows: The grain to be cleaned enters the machine by the channel p and falling be tween the cylinder A and sides of the cham ber B is submitted immediately to the ac tion of the ribs a, and beaters b, which by the revolution of the cylinder A strip the Smut from the grain, while the current Created by the revolution of the fan D car lies off the detached impurities and per mits the cleaned grain to fall through the hopper H. The inclined openings in the diaphragm Fallow the free passage of the air carrying the light Smut, but prevent the passage of grain which the strong draft would be likely to carry off; as the grain would strike one of the partitions f, imped ing its progress and permitting its gravity to roll it back into the chamber B. The door c of the fan chamber regulates the draft, by the increase or diminution of the opening of the fan chamber as the occasion requires. What I claim as my invention and desire to secure by Letters Patent, is The construction of the diaphragm F, the central part being solid, and that near the periphery made in several oblique valvu lar passages, to check and throw back the kernels of grain, as represented in Fig. 3 of the drawing. in testimony whereof, I have hereunto signed my name before two subscribing wit eSSeS. ROBERT WASKEY. 45 50 55 60 65 70 75\n",
      "Cosine Similarity : 0.7612993717193604\n"
     ]
    }
   ],
   "source": [
    "measure = 'Cosine Similarity'\n",
    "most_similar_documents, most_similar_document_index = patant_analyser.most_similar(patent_df, 0, look_up_table, measure)\n",
    "print('\\n')\n",
    "print(f'Document: {most_similar_documents}')\n",
    "print(f'{measure} : {most_similar_document_index}')"
   ]
  },
  {
   "cell_type": "code",
   "execution_count": null,
   "id": "ce5ac3a4",
   "metadata": {},
   "outputs": [],
   "source": []
  },
  {
   "cell_type": "code",
   "execution_count": null,
   "id": "eeaf97ec",
   "metadata": {},
   "outputs": [],
   "source": []
  }
 ],
 "metadata": {
  "kernelspec": {
   "display_name": "Python 3 (ipykernel)",
   "language": "python",
   "name": "python3"
  },
  "language_info": {
   "codemirror_mode": {
    "name": "ipython",
    "version": 3
   },
   "file_extension": ".py",
   "mimetype": "text/x-python",
   "name": "python",
   "nbconvert_exporter": "python",
   "pygments_lexer": "ipython3",
   "version": "3.7.0"
  }
 },
 "nbformat": 4,
 "nbformat_minor": 5
}
