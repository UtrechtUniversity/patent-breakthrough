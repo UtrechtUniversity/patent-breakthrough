{
 "cells": [
  {
   "cell_type": "code",
   "execution_count": 3,
   "id": "3adfcd87",
   "metadata": {},
   "outputs": [],
   "source": [
    "import pandas as pd\n",
    "import json\n",
    "import time\n",
    "import os\n",
    "import dill\n",
    "from docembedder.bert import BERTEmbedder\n",
    "from docembedder.analysis import DOCSimilarity\n",
    "from docembedder.preparation import DOCPreparation"
   ]
  },
  {
   "cell_type": "markdown",
   "id": "cc5eea97",
   "metadata": {},
   "source": [
    "## Data preparation"
   ]
  },
  {
   "cell_type": "code",
   "execution_count": 4,
   "id": "c356feb0",
   "metadata": {},
   "outputs": [
    {
     "data": {
      "text/html": [
       "<div>\n",
       "<style scoped>\n",
       "    .dataframe tbody tr th:only-of-type {\n",
       "        vertical-align: middle;\n",
       "    }\n",
       "\n",
       "    .dataframe tbody tr th {\n",
       "        vertical-align: top;\n",
       "    }\n",
       "\n",
       "    .dataframe thead th {\n",
       "        text-align: right;\n",
       "    }\n",
       "</style>\n",
       "<table border=\"1\" class=\"dataframe\">\n",
       "  <thead>\n",
       "    <tr style=\"text-align: right;\">\n",
       "      <th></th>\n",
       "      <th>contents</th>\n",
       "    </tr>\n",
       "  </thead>\n",
       "  <tbody>\n",
       "    <tr>\n",
       "      <th>0</th>\n",
       "      <td>/5 Az izz . A 2zzZe /Zee/ A 2zzezzez ?ez. 6. ...</td>\n",
       "    </tr>\n",
       "    <tr>\n",
       "      <th>1</th>\n",
       "      <td>No. 100,000, J. ANDERSON, Horse Sun-Bonnet, Pa...</td>\n",
       "    </tr>\n",
       "    <tr>\n",
       "      <th>2</th>\n",
       "      <td>T, ALSON, Straw Cutter, No. 10,001, Patented S...</td>\n",
       "    </tr>\n",
       "    <tr>\n",
       "      <th>3</th>\n",
       "      <td>L, H, DAVIS, Corn Sheller, No. 10,002, Patente...</td>\n",
       "    </tr>\n",
       "    <tr>\n",
       "      <th>4</th>\n",
       "      <td>P, DICKNSON, Corn Sheller, No. 10.003, Patente...</td>\n",
       "    </tr>\n",
       "    <tr>\n",
       "      <th>...</th>\n",
       "      <td>...</td>\n",
       "    </tr>\n",
       "    <tr>\n",
       "      <th>295</th>\n",
       "      <td>To all whom it may concern: FIELD, of Portland...</td>\n",
       "    </tr>\n",
       "    <tr>\n",
       "      <th>296</th>\n",
       "      <td>To all whom it may concern: Be it known that I...</td>\n",
       "    </tr>\n",
       "    <tr>\n",
       "      <th>297</th>\n",
       "      <td>To all whom it may concern: Be it known that I...</td>\n",
       "    </tr>\n",
       "    <tr>\n",
       "      <th>298</th>\n",
       "      <td>To all whom it may concern. Be it known that I...</td>\n",
       "    </tr>\n",
       "    <tr>\n",
       "      <th>299</th>\n",
       "      <td>To all whom, it may concern : Be it known that...</td>\n",
       "    </tr>\n",
       "  </tbody>\n",
       "</table>\n",
       "<p>300 rows × 1 columns</p>\n",
       "</div>"
      ],
      "text/plain": [
       "                                              contents\n",
       "0    /5 Az izz . A 2zzZe /Zee/ A 2zzezzez ?ez. 6. ...\n",
       "1    No. 100,000, J. ANDERSON, Horse Sun-Bonnet, Pa...\n",
       "2    T, ALSON, Straw Cutter, No. 10,001, Patented S...\n",
       "3    L, H, DAVIS, Corn Sheller, No. 10,002, Patente...\n",
       "4    P, DICKNSON, Corn Sheller, No. 10.003, Patente...\n",
       "..                                                 ...\n",
       "295  To all whom it may concern: FIELD, of Portland...\n",
       "296  To all whom it may concern: Be it known that I...\n",
       "297  To all whom it may concern: Be it known that I...\n",
       "298  To all whom it may concern. Be it known that I...\n",
       "299  To all whom, it may concern : Be it known that...\n",
       "\n",
       "[300 rows x 1 columns]"
      ]
     },
     "execution_count": 4,
     "metadata": {},
     "output_type": "execute_result"
    }
   ],
   "source": [
    "# Read and preprocess Patent's documents\n",
    "patent_document = DOCPreparation()\n",
    "patent_df = patent_document.read_patents()\n",
    "patent_df\n",
    "\n",
    "# Do some preprocessing here"
   ]
  },
  {
   "cell_type": "markdown",
   "id": "db68e943",
   "metadata": {},
   "source": [
    "## Embeddings generation"
   ]
  },
  {
   "cell_type": "code",
   "execution_count": 5,
   "id": "9126b325",
   "metadata": {},
   "outputs": [],
   "source": [
    "# patent_embedder = BERTEmbedder()\n",
    "\n",
    "# patent_embedder.fit(patent_df['contents'])"
   ]
  },
  {
   "cell_type": "markdown",
   "id": "6455a338",
   "metadata": {},
   "source": [
    "## Similarity analysis"
   ]
  },
  {
   "cell_type": "code",
   "execution_count": 6,
   "id": "87e33882",
   "metadata": {},
   "outputs": [
    {
     "name": "stdout",
     "output_type": "stream",
     "text": [
      "Document: /5 Az izz . A 2zzZe /Zee/ A 2zzezzez ?ez. 6. /853. UNITED STATES PATENT OFFICE. BENJAMIN IRVING, OF GREEN POINT, NEW YORK. IMPROVED PADDLE-WHEEL. Specification forming part of Letters Patent No. 10,000, dated September 6, 1853. - To all uhon itt may concertv: the rhombic form, inasmuch as the side an . Be it known that I, BENJAMIN IRVING, of gles are cut off, and the figure is made six Green Point, in the county of Kings and State sided, as shown in Fig. 4. The best material of New York, have invented a new and use for the floats is sheet-iron, and the several ful Improvement in Paddle-Wheels for Pro floats may be united together and to the pelling Vessels; and I do hereby declare that rings C C by bolts or rivets. The number of the following is a full, clear, and exact de buckets will depend upon the width of the scription of the same, reference being had to wheel. The width of the wheel shown in the accompanying drawings, forming part of cludes three buckets, which I consider to be this specification, in which about the proper number, though it may be Figurelis a section in a plane perpendicu varied. A number of half-buckets of trian  lar to the axis of a paddle-wheel constructed gular form will be formed unavoidably close according to my invention. Fig. 2 is a front inside the rings, if rings are used, which may not be absolutely necessary, as the wheel view of the same. Fig. 3 shows a number of floats detached from the wheel for the pur could be made of sufficient strength by unit pose of exhibiting their form more clearly. ing the floats and arms. Ido not confine my Fig, 4 represents one of the buckets as seen self to the angle above stated for the floats, but have merely given that which I at pres from the inside of the wheel. Similar letters of reference indicate corre ent consider to bebest. This wheel acts upon sponding parts in the Several figures. the water with a constant succession of floats The nature of this invention consists in ar united to form the letter V. It is true that ranging and combining the floats in such a other wheels have floats united to produce this form; but the peculiarity of thisarrange manner that they form a continuous Series of i rhomb-shaped buckets all round the wheel. ment is that while every float acts upon the  The object of this mode of arranging and water with propulsive effect it is at the same combining the floats is to prevent violent con time effective in holding together in a solid cussions when they strike the water and to body the water upon which the float which hold the water upon which they act in an un immediately succeeds it acts. In other words, broken body, and thereby to render theirac the peculiarity may be said to consist in a tion more effective than that of the floats as combination of successive series of rhomb I commonly arranged. shaped close buckets, of which the two front sides of the rhomb give a propulsive effect, To enable those skilled in the art to make and use : my invention, I will proceed to de while the two back sides prevent the break scribe its construction and operation. ing up of the water upon which they act and The frame of the wheel, consisting of the the consequent loss of their effect, the said hub A, arms BB, and rings CC, may be con back sides also forming the front sides or propelling parts of succeeding buckets. structed in the usual manner, and strength ened by oblique stays a a. It will be better The operation of this wheel is the same in to makes the rings C. C. of a width equal to .. whichever direction it turns, and thereforeit the whole depth of the floats. The floats D will propel backward as well as forward. It Dare arranged with theirouter edges in lines can be made of great strength, as it is self running spirally round the wheelin opposite bracing. directions at angles of about Seventy-five de | What I claim as my invention, and desire 'grees to the axis, the crossing of the said lines secure by Letters Patent, is forming a number of rhomb-shaped buckets Arranging and combining the floats so as EE, which havenoopenings excepttoward and to form a series of buckets of rhombic or Sub from the center of the wheel. The inner stantially similar form, as and for the pur openings of the buckets are contracted end pose herein set forth. wise (see Fig. 1) for the purpose of giving the front angle such a form as to prevent back-lift in rising from the water, which makes the said inner opening depart from S. H. WALES, EL. POLHAMUS. Witnesses: BENJAMIN IRVING.\n",
      "\n",
      "\n",
      "Most similar Document:\n",
      "\n",
      "\n",
      "Document: P, DICKNSON, Corn Sheller, No. 10.003, Patented Sept. 6, 1853, SkeetsNeges ur RP-r NS vo-Mou. INHS 2SN I SN NS SS UNITED STATES PATENT OFFICE. PORTER DICKINSON, OF AMEIERST, MASSACHUSETTS. IMPROVEMENT IN CORN - SHELLERS. Specification forming part of Letters Patent No. 10,003, dated September 6, 1853. To aid what, it may concern, Amherst, in the county of Hampshire and State of Massachusetts, have invented a new and useful Improvement in Corn-Shellers; and I hereby declare the following to be a full, clear, and exact description of the same, ref erence being had to the annexed drawings, making part of this specification. My invention is applicable to corn-shellers similar to that patented by J. W. Gordon, October 7, 1846, and is designed to remedy the defects existing in that class of corn-shell ers as heretofore constructed, in which it was necessary to force through each cobby hand, the screw-thread upon the revolving shellers not being sufficient for the purpose; and my improvement consists in the addition to ma chines of this description of a pair of toothed rollers, which seize the cob after the corn is shelled from it and drag it entirely through the machine. In order to enable others to make and use my invention, I will proceed to describe its construction and operation. Figurei is an elevation of the machine; Fig. 2, a plan; Fig. 3, a transverse section through the operating parts. Fig. 4 is a view of one of the toothed shellers detached. Fig. 5 is a front view of the hollow tube D with the toothed shellers in place. place by the straps.f, under which they pass. Be it known that I, PORTER DICKINSON, of A slight motion out and in is thus allowed to the guides, by which means the conical open ing adapts itself to the size of the ear of corn to be shelled, the projections g holding the ear and preventing it from being turned. Im mediately in the rear of this guide, and adapt ed to the face of the revolving tube D, are two toothed shellers, h. h\", which, when the machine is not in use, approach very near to each other, as represented in Fig. 1, but are forced apart by the cob when in operation, as seen in Fig. 5, and are pressed together by the action of the springs i i\", which permit them to recede from each other an amount proportionate to the size of the cob. k k are two toothed rollers, placed imme diately behind the revolving tube D. The lower one of these rollers is Secured to the shaft l, having a gear, m, at one end, which engages with a gear, n, upon the shaft of the driving-wheel B, by which means the lower roller is made to revolve. The upper roller is pressed down to its work by springs E, which permit it to rise and fall, according to the size of the colb to be drawn through. Operation: Motion being given to the crank by the right hand, the ear is pressed into the conical opening between the guides d, which are permitted to recede from each other by the yielding of the springs e. The cob is then A is the frame-work of the machine. made to enter between the revolving toothed B is a cogged wheel driven by the crank C, shellers hit, the teeth of which tear the grain by which motion is communicated to the op from the cob. These shellers are furnished erating parts. each with a portion of a thread of a screw, p, D is a hollow tube of the form represented which aids in drawing in the cob. As the in section in Fig. 3, and which is permitted latter is pressed through, it is seized by the to revolvein bearings a, rising from the frame. toothed rollers k k\", which carry it entirely Upon the exterior surface of this cylinder or through the machine. The left hand of the tube is a cogged gear, b, (seen in Fig. 2,) and operator is then at liberty to take another ear, which engages with and is caused to revolve which is pressed in between the revolving by the driving-gear B. shellers, as before, and the operation continues. c is a box attached to the upper part of the In machines of this character as heretofore machine, and carrying the principal operat constructed, it became necessary to force the ing parts. cob entirely through by hand, the operation dare two semi-guides which, when brought of the screw-thread p being slow and uncer together in the position seen in Fig. 1, form a tain. As at present improved, however, it conical opening through which the cob is works rapidly and perfectly, the spring-shell passed to the revolving shellers. These guides ers h i? stripping off every kernel from the d are pressed up to their work by springs e, cob, whether the latter be large or small, while and are guided in their motion and kept in the toothed rollers k le draw the naked cobs - 2 - 50,003 through with great rapidity. The grain pass- In testimony whereof I have hereunto set ing down the passage F into the trough H is my signature this 28th day of March, A. D. received into a proper receptacle. S53. Having thus described my invention, what I claim as new, and desire to secure by Letters Patent, is The combination of the revolving spring- shellers I h with the toothed rollers k, lo', op- erating in manner substantially as described. EDWARD DICKINSON, E. G. BOWDOIN. Witnesses: w PORTER DICKINSON.\n",
      "0.57741046\n"
     ]
    }
   ],
   "source": [
    "patant_analyser = DOCSimilarity.from_drill()\n",
    "look_up_table = patant_analyser.cosine_similarity_matrix()\n",
    "\n",
    "most_similar_documents, most_similar_document_index = patant_analyser.most_similar(patent_df, 0, look_up_table)\n",
    "print('\\n')\n",
    "print(f'Document: {most_similar_documents}')\n",
    "print(most_similar_document_index)"
   ]
  }
 ],
 "metadata": {
  "kernelspec": {
   "display_name": "Python 3 (ipykernel)",
   "language": "python",
   "name": "python3"
  },
  "language_info": {
   "codemirror_mode": {
    "name": "ipython",
    "version": 3
   },
   "file_extension": ".py",
   "mimetype": "text/x-python",
   "name": "python",
   "nbconvert_exporter": "python",
   "pygments_lexer": "ipython3",
   "version": "3.7.0"
  }
 },
 "nbformat": 4,
 "nbformat_minor": 5
}
