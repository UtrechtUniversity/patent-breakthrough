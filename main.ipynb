{
 "cells": [
  {
   "cell_type": "code",
   "execution_count": 22,
   "id": "3adfcd87",
   "metadata": {},
   "outputs": [],
   "source": [
    "import pandas as pd\n",
    "import json\n",
    "import time\n",
    "import os\n",
    "import dill\n",
    "from docembedder.bert import BERTEmbedder"
   ]
  },
  {
   "cell_type": "code",
   "execution_count": 23,
   "id": "94359a14",
   "metadata": {},
   "outputs": [],
   "source": [
    "# Read cleaned patent file\n",
    "with open('data/sample_cleaned_v3.jsonl', encoding=\"utf-8\") as p:\n",
    "    patent_df = pd.DataFrame(json.loads(line) for line in p)\n",
    "    \n",
    "documents_df = patent_df['contents']"
   ]
  },
  {
   "cell_type": "code",
   "execution_count": null,
   "id": "fcb85d10",
   "metadata": {},
   "outputs": [],
   "source": [
    "# Define patent object\n",
    "patent = BERTEmbedder()"
   ]
  },
  {
   "cell_type": "code",
   "execution_count": 19,
   "id": "2233059a",
   "metadata": {},
   "outputs": [],
   "source": [
    "# Fit the model and save it- document embeddings\n",
    "# patent.fit(documents_df)"
   ]
  },
  {
   "cell_type": "code",
   "execution_count": 20,
   "id": "1ffaa403",
   "metadata": {},
   "outputs": [],
   "source": [
    "# Read the saved model for calculating similarities\n",
    "path = os.path.abspath('models/document_embeddings.model')\n",
    "with open(path, 'rb') as f:\n",
    "    document_embeddings = dill.load(f)"
   ]
  },
  {
   "cell_type": "code",
   "execution_count": 21,
   "id": "a86a1448",
   "metadata": {},
   "outputs": [
    {
     "name": "stdout",
     "output_type": "stream",
     "text": [
      "Document: az izz a /zee/ a ?ez. united states patent office. benjamin irving, of green point, new york. improved paddle-wheel. specification forming part of letters patent no. dated september to all uhon itt may concertv: the rhombic form, inasmuch as the side an be known that i, benjamin irving, of gles are cut off, and the figure made six green point, the county of kings and state sided, as shown fig. the best material of new york, have invented a new and use for the floats sheet-iron, and the several ful improvement paddle-wheels for pro floats may be united together and to the pelling vessels; and i hereby declare that rings by bolts or rivets. the number of the following a full, clear, and exact buckets will depend upon the width of the scription of the same, reference being had to wheel. the width of the wheel shown the accompanying drawings, forming part of cludes three buckets, which i consider to be this specification, which about the proper number, though may be figurelis a section a plane perpendicu varied. a number of half-buckets of trian lar to the axis of a paddle-wheel constructed gular form will be formed unavoidably close according to invention. fig. a front inside the rings, rings are used, which may not be absolutely necessary, as the wheel view of the same. fig. shows a number of floats detached from the wheel for the pur could be made of sufficient strength by unit pose of exhibiting their form more clearly. ing the floats and arms. not confine fig, represents one of the buckets as seen self to the angle above stated for the floats, but have merely given that which i at pres from the inside of the wheel. similar letters of reference indicate corre ent consider to bebest. this wheel acts upon sponding parts the several figures. the water with a constant succession of floats the nature of this invention consists ar united to form the letter true that ranging and combining the floats such a other wheels have floats united to produce this form; but the peculiarity of thisarrange manner that they form a continuous series of i rhomb-shaped buckets all round the wheel. ment that while every float acts upon the the object of this mode of arranging and water with propulsive effect at the same combining the floats to prevent violent con time effective holding together a solid cussions when they strike the water and to body the water upon which the float which hold the water upon which they act an un immediately succeeds acts. other words, broken body, and thereby to render theirac the peculiarity may be said to consist a tion more effective than that of the floats as combination of successive series of rhomb i commonly arranged. shaped close buckets, of which the two front sides of the rhomb give a propulsive effect, to enable those skilled the art to make and use invention, i will proceed to while the two back sides prevent the break scribe its construction and operation. ing up of the water upon which they act and the frame of the wheel, consisting of the the consequent loss of their effect, the said hub a, arms and rings may be con back sides also forming the front sides or propelling parts of succeeding buckets. structed the usual manner, and strength ened by oblique stays a a. will be better the operation of this wheel the same to makes the rings of a width equal to whichever direction turns, and thereforeit the whole depth of the floats. the floats will propel backward as well as forward. dare arranged with theirouter edges lines can be made of great strength, as self running spirally round the wheelin opposite bracing. directions at angles of about seventy-five what i claim as invention, and desire 'grees to the axis, the crossing of the said lines secure by letters patent, forming a number of rhomb-shaped buckets arranging and combining the floats so as which havenoopenings excepttoward and to form a series of buckets of rhombic or sub from the center of the wheel. the inner stantially similar form, as and for the pur openings of the buckets are contracted end pose herein set forth. wise (see fig. for the purpose of giving the front angle such a form as to prevent back-lift rising from the water, which makes the said inner opening depart from wales, el. polhamus. witnesses: benjamin irving.\n",
      "\n",
      "\n",
      "Most similar Document:\n",
      "\n",
      "\n",
      "Document: waskey, smut mill, no. patented sept. fl i a zo sn nz aw hel yi pns ft a united states patent office. robert waskey, of mill creek, virginia. smu-machine. specification of letters patent no. dated september to all whom, may concern, be known that i, robert waskey, of mill creek, the county of botetourt and state of wirginia, have invented a new and useful improvement smut-machines; and i hereby declare that the following a full, clear, and exact description of the con struction and operation of the same, refer ence being had to the annexed drawings, forming part of this specification, which figure a rear elevation of the chine. fig. a vertical section through the axis of the machine. fig. a hori zontal section upon the line a of fig. fig. a vertical section upon the line gy sy of fig. similar letters of reference the several figures denote the same part of the machine. invention consists inserting be tween the head of the beating cylinder and the fan chamber, a diaphragm with inclined openings, for the purpose of preventing the grain from being carried off with the smut by the action of the blast during the opera tion of cleaning. the drawings a the beating cylinder, revolving the chamber and having its surface armed with the beaters on the sides of the chamber are the ribs a, which with the beaters form the portion of the machine which loosens the smut from the grain. the shaft which holds the fan and cylinder a, the former revolving the chamber which furnished with the door a for graduating the amount of draft. between the fan chamber and the head of the cylinder a the diaphragm hav ing the opening the center for the pas sage of the shaft and between the ring and sides of the chamber the inclined par witnesses: wm. elliot, robt. wade. titions forming the openingsh. below the chamber the hopper hopen at the bot tom, through this opening enters the supply of air to fill the vacuum created by the fan. the operation of machine as foll lows: the grain to be cleaned enters the machine by the channel and falling be tween the cylinder a and sides of the cham ber submitted immediately to the ac tion of the ribs a, and beaters which by the revolution of the cylinder a strip the smut from the grain, while the current created by the revolution of the fan car lies off the detached impurities and per mits the cleaned grain to fall through the hopper the inclined openings the diaphragm fallow the free passage of the air carrying the light smut, but prevent the passage of grain which the strong draft would be likely to carry off; as the grain would strike one of the partitions imped ing its progress and permitting its gravity to roll back into the chamber the door of the fan chamber regulates the draft, by the increase or diminution of the opening of the fan chamber as the occasion requires. what i claim as invention and desire to secure by letters patent, the construction of the diaphragm the central part being solid, and that near the periphery made several oblique valvu lar passages, to check and throw back the kernels of grain, as represented fig. of the drawing. testimony whereof, i have hereunto signed name before two subscribing wit esses. robert waskey.\n",
      "Cosine Similarity : 0.7612993717193604\n"
     ]
    }
   ],
   "source": [
    "# Find most similar documents\n",
    "patent.most_similar(patent_df, 0, patent.create_similarity_matrix(document_embeddings),\n",
    "                        'Cosine Similarity')"
   ]
  },
  {
   "cell_type": "code",
   "execution_count": null,
   "id": "769d51d8",
   "metadata": {},
   "outputs": [],
   "source": []
  }
 ],
 "metadata": {
  "kernelspec": {
   "display_name": "Python 3 (ipykernel)",
   "language": "python",
   "name": "python3"
  },
  "language_info": {
   "codemirror_mode": {
    "name": "ipython",
    "version": 3
   },
   "file_extension": ".py",
   "mimetype": "text/x-python",
   "name": "python",
   "nbconvert_exporter": "python",
   "pygments_lexer": "ipython3",
   "version": "3.7.0"
  }
 },
 "nbformat": 4,
 "nbformat_minor": 5
}
