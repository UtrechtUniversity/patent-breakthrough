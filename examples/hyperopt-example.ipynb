{
 "cells": [
  {
   "cell_type": "code",
   "execution_count": 4,
   "id": "393406a8",
   "metadata": {},
   "outputs": [],
   "source": [
    "from pathlib import Path\n",
    "from pprint import pprint\n",
    "\n",
    "from docembedder.hyperopt.utils import ModelHyperopt\n",
    "from docembedder.models import TfidfEmbedder, D2VEmbedder, CountVecEmbedder, BPembEmbedder, BERTEmbedder\n",
    "\n",
    "from hyperopt import space_eval\n"
   ]
  },
  {
   "cell_type": "code",
   "execution_count": 5,
   "id": "81ff2b64",
   "metadata": {},
   "outputs": [],
   "source": [
    "# set general parameters\n",
    "hype = ModelHyperopt(\n",
    "        year_start=1850,\n",
    "        year_end=1950,\n",
    "        window_size=10,\n",
    "        n_jobs=1,\n",
    "        preprocessors=None,\n",
    "        cpc_fp = Path(\"/data/index_files/GPCPCs.txt\"),\n",
    "        patent_dir = Path(\"/data/patents/\"),\n",
    "    )"
   ]
  },
  {
   "cell_type": "code",
   "execution_count": null,
   "id": "c271b505",
   "metadata": {},
   "outputs": [],
   "source": [
    "# run optimization per model (this can take quite a while!)\n",
    "hype.optimize_tfidf(max_evals=10)\n",
    "hype.optimize_d2v(max_evals=10)\n",
    "hype.optimize_countvec(max_evals=10)\n",
    "hype.optimize_bpemp(max_evals=10)\n",
    "hype.optimize_bert(max_evals=10)\n",
    "\n",
    "# raw results\n",
    "pprint(hype.best)"
   ]
  },
  {
   "cell_type": "code",
   "execution_count": null,
   "id": "94ec88cb",
   "metadata": {},
   "outputs": [],
   "source": [
    "# print readable evaluation results\n",
    "pprint(space_eval(TfidfEmbedder.hyper_space(),hype.best['tfidf']))\n",
    "pprint(space_eval(D2VEmbedder.hyper_space(),hype.best['d2v']))\n",
    "pprint(space_eval(CountVecEmbedder.hyper_space(),hype.best['countvec']))\n",
    "pprint(space_eval(BPembEmbedder.hyper_space(),hype.best['bpemp']))\n",
    "pprint(space_eval(BERTEmbedder.hyper_space(),hype.best['bert']))"
   ]
  }
 ],
 "metadata": {
  "kernelspec": {
   "display_name": "youth",
   "language": "python",
   "name": "python3"
  },
  "language_info": {
   "codemirror_mode": {
    "name": "ipython",
    "version": 3
   },
   "file_extension": ".py",
   "mimetype": "text/x-python",
   "name": "python",
   "nbconvert_exporter": "python",
   "pygments_lexer": "ipython3",
   "version": "3.9.12 (main, Jun  1 2022, 11:38:51) \n[GCC 7.5.0]"
  },
  "vscode": {
   "interpreter": {
    "hash": "47b9ebd42006c1dc8745b014f20b2c57d8cdc5dec3fe9a4daee3641bdc326575"
   }
  }
 },
 "nbformat": 4,
 "nbformat_minor": 5
}
