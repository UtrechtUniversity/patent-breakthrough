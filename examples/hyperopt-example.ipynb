{
 "cells": [
  {
   "cell_type": "code",
   "execution_count": 4,
   "id": "393406a8",
   "metadata": {},
   "outputs": [],
   "source": [
    "from pathlib import Path\n",
    "from docembedder.hyperopt.utils import ModelHyperopt"
   ]
  },
  {
   "cell_type": "code",
   "execution_count": 5,
   "id": "81ff2b64",
   "metadata": {},
   "outputs": [],
   "source": [
    "hype = ModelHyperopt(\n",
    "        year_start=1900,\n",
    "        year_end=1903,\n",
    "        window_size=2,\n",
    "        n_jobs=1,\n",
    "        preprocessors=None,\n",
    "        cpc_fp = Path(\"/data/breakthrough-patents/year_index/GPCPCs.txt\"),\n",
    "        patent_dir = Path(\"/data/breakthrough-patents/test\"),\n",
    "    )"
   ]
  },
  {
   "cell_type": "code",
   "execution_count": null,
   "id": "c271b505",
   "metadata": {},
   "outputs": [],
   "source": [
    "hype.optimize_tfidf(max_evals=10)\n",
    "hype.optimize_d2v(max_evals=10)\n",
    "hype.optimize_countvec(max_evals=10)\n",
    "hype.optimize_bpemp(max_evals=10)\n",
    "hype.optimize_bert(max_evals=10)\n",
    "\n",
    "print(hype.best)"
   ]
  },
  {
   "cell_type": "code",
   "execution_count": null,
   "id": "94ec88cb",
   "metadata": {},
   "outputs": [],
   "source": [
    "from docembedder.models import TfidfEmbedder, D2VEmbedder, CountVecEmbedder, BPembEmbedder, BERTEmbedder\n",
    "from hyperopt import space_eval\n",
    "\n",
    "space = TfidfEmbedder.hyper_space()\n",
    "print(space_eval(space,hype.best['tfidf']))\n",
    "\n",
    "space = D2VEmbedder.hyper_space()\n",
    "print(space_eval(space,hype.best['d2v']))\n",
    "\n",
    "space = CountVecEmbedder.hyper_space()\n",
    "print(space_eval(space,hype.best['countvec']))\n",
    "\n",
    "space = BPembEmbedder.hyper_space()\n",
    "print(space_eval(space,hype.best['bpemp']))\n",
    "\n",
    "space = BERTEmbedder.hyper_space()\n",
    "print(space_eval(space,hype.best['bert']))"
   ]
  }
 ],
 "metadata": {
  "kernelspec": {
   "display_name": "youth",
   "language": "python",
   "name": "python3"
  },
  "language_info": {
   "codemirror_mode": {
    "name": "ipython",
    "version": 3
   },
   "file_extension": ".py",
   "mimetype": "text/x-python",
   "name": "python",
   "nbconvert_exporter": "python",
   "pygments_lexer": "ipython3",
   "version": "3.9.12 (main, Jun  1 2022, 11:38:51) \n[GCC 7.5.0]"
  },
  "vscode": {
   "interpreter": {
    "hash": "47b9ebd42006c1dc8745b014f20b2c57d8cdc5dec3fe9a4daee3641bdc326575"
   }
  }
 },
 "nbformat": 4,
 "nbformat_minor": 5
}
