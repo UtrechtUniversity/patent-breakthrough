{
 "cells": [
  {
   "cell_type": "code",
   "execution_count": null,
   "id": "393406a8",
   "metadata": {},
   "outputs": [],
   "source": [
    "from pathlib import Path\n",
    "from pprint import pprint\n",
    "\n",
    "from docembedder.hyperopt.utils import ModelHyperopt\n",
    "from docembedder.models import TfidfEmbedder, D2VEmbedder, CountVecEmbedder, BPembEmbedder, BERTEmbedder\n",
    "\n",
    "from hyperopt import space_eval"
   ]
  },
  {
   "cell_type": "code",
   "execution_count": null,
   "id": "81ff2b64",
   "metadata": {},
   "outputs": [],
   "source": [
    "# set general parameters\n",
    "hype = ModelHyperopt(\n",
    "        year_start=1900,\n",
    "        year_end=1904,\n",
    "        window_size=2,\n",
    "        n_jobs=1,\n",
    "        preprocessors=None,\n",
    "        cpc_fp = Path(\"/data/breakthrough-patents/year_index/GPCPCs.txt\"),\n",
    "        patent_dir = Path(\"/data/breakthrough-patents/test/\"),\n",
    "        debug_max_patents = 1000\n",
    "    )"
   ]
  },
  {
   "cell_type": "code",
   "execution_count": null,
   "id": "028da1c8",
   "metadata": {},
   "outputs": [],
   "source": [
    "# run optimization per model (this can take quite a while!)\n",
    "models = {\n",
    "    'tfidf': (TfidfEmbedder, 10),\n",
    "    'd2v': (D2VEmbedder, 10),\n",
    "    'countvec': (CountVecEmbedder, 10),\n",
    "    'bpemp': (BPembEmbedder, 10),\n",
    "    'bert': (BERTEmbedder, 10),\n",
    "}\n",
    "\n",
    "for label, (model, max_evals) in models.items():\n",
    "    hype.optimize(\n",
    "        label=label,\n",
    "        objective_function=hype.get_objective_func(label=label, model=model),\n",
    "        space=model.hyper_space(),\n",
    "        max_evals=max_evals\n",
    "    )"
   ]
  },
  {
   "cell_type": "code",
   "execution_count": null,
   "id": "94ec88cb",
   "metadata": {},
   "outputs": [],
   "source": [
    "# raw results\n",
    "pprint(hype.best)\n",
    "for trial in hype.trials.trials:\n",
    "    pprint(trial)\n",
    "\n",
    "# print readable evaluation results\n",
    "pprint(space_eval(TfidfEmbedder.hyper_space(), hype.best['tfidf']))\n",
    "pprint(space_eval(D2VEmbedder.hyper_space(), hype.best['d2v']))\n",
    "pprint(space_eval(CountVecEmbedder.hyper_space(), hype.best['countvec']))\n",
    "pprint(space_eval(BPembEmbedder.hyper_space(), hype.best['bpemp']))\n",
    "pprint(space_eval(BERTEmbedder.hyper_space(), hype.best['bert']))"
   ]
  }
 ],
 "metadata": {
  "kernelspec": {
   "display_name": "Python 3 (ipykernel)",
   "language": "python",
   "name": "python3"
  },
  "language_info": {
   "codemirror_mode": {
    "name": "ipython",
    "version": 3
   },
   "file_extension": ".py",
   "mimetype": "text/x-python",
   "name": "python",
   "nbconvert_exporter": "python",
   "pygments_lexer": "ipython3",
   "version": "3.9.16"
  },
  "vscode": {
   "interpreter": {
    "hash": "47b9ebd42006c1dc8745b014f20b2c57d8cdc5dec3fe9a4daee3641bdc326575"
   }
  }
 },
 "nbformat": 4,
 "nbformat_minor": 5
}
