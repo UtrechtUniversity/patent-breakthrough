{
 "cells": [
  {
   "cell_type": "code",
   "execution_count": 1,
   "id": "393406a8",
   "metadata": {},
   "outputs": [],
   "source": [
    "from pathlib import Path\n",
    "from pprint import pprint\n",
    "\n",
    "from docembedder.hyperopt.utils import ModelHyperopt\n",
    "from docembedder.models import TfidfEmbedder, D2VEmbedder, CountVecEmbedder, BPembEmbedder, BERTEmbedder\n",
    "\n",
    "from hyperopt import space_eval\n"
   ]
  },
  {
   "cell_type": "code",
   "execution_count": 2,
   "id": "81ff2b64",
   "metadata": {},
   "outputs": [],
   "source": [
    "# set general parameters\n",
    "hype = ModelHyperopt(\n",
    "        year_start=1850,\n",
    "        year_end=1950,\n",
    "        window_size=10,\n",
    "        n_jobs=1,\n",
    "        preprocessors=None,\n",
    "        cpc_fp = Path(\"/data/index_files/GPCPCs.txt\"),\n",
    "        patent_dir = Path(\"/data/patents/\"),\n",
    "    )"
   ]
  },
  {
   "cell_type": "code",
   "execution_count": 3,
   "id": "c271b505",
   "metadata": {},
   "outputs": [
    {
     "ename": "TypeError",
     "evalue": "optimize_bpemp() missing 1 required positional argument: 'params'",
     "output_type": "error",
     "traceback": [
      "\u001b[0;31m---------------------------------------------------------------------------\u001b[0m",
      "\u001b[0;31mTypeError\u001b[0m                                 Traceback (most recent call last)",
      "Cell \u001b[0;32mIn[3], line 5\u001b[0m\n\u001b[1;32m      1\u001b[0m \u001b[38;5;66;03m# run optimization per model (this can take quite a while!)\u001b[39;00m\n\u001b[1;32m      2\u001b[0m \u001b[38;5;66;03m# hype.optimize_tfidf(max_evals=10)\u001b[39;00m\n\u001b[1;32m      3\u001b[0m \u001b[38;5;66;03m# hype.optimize_d2v(max_evals=10)\u001b[39;00m\n\u001b[1;32m      4\u001b[0m \u001b[38;5;66;03m# hype.optimize_countvec(max_evals=10)\u001b[39;00m\n\u001b[0;32m----> 5\u001b[0m \u001b[43mhype\u001b[49m\u001b[38;5;241;43m.\u001b[39;49m\u001b[43moptimize_bpemp\u001b[49m\u001b[43m(\u001b[49m\u001b[43mmax_evals\u001b[49m\u001b[38;5;241;43m=\u001b[39;49m\u001b[38;5;241;43m1\u001b[39;49m\u001b[43m)\u001b[49m\n\u001b[1;32m      6\u001b[0m \u001b[38;5;66;03m# hype.optimize_bert(max_evals=10)\u001b[39;00m\n\u001b[1;32m      7\u001b[0m \n\u001b[1;32m      8\u001b[0m \u001b[38;5;66;03m# raw results\u001b[39;00m\n\u001b[1;32m      9\u001b[0m pprint(hype\u001b[38;5;241m.\u001b[39mbest)\n",
      "\u001b[0;31mTypeError\u001b[0m: optimize_bpemp() missing 1 required positional argument: 'params'"
     ]
    }
   ],
   "source": [
    "# run optimization per model (this can take quite a while!)\n",
    "# hype.optimize_tfidf(max_evals=10)\n",
    "# hype.optimize_d2v(max_evals=10)\n",
    "# hype.optimize_countvec(max_evals=10)\n",
    "hype.optimize_bpemp(max_evals=1)\n",
    "# hype.optimize_bert(max_evals=10)\n",
    "\n",
    "# raw results\n",
    "pprint(hype.best)"
   ]
  },
  {
   "cell_type": "code",
   "execution_count": null,
   "id": "94ec88cb",
   "metadata": {},
   "outputs": [],
   "source": [
    "# print readable evaluation results\n",
    "pprint(space_eval(TfidfEmbedder.hyper_space(),hype.best['tfidf']))\n",
    "pprint(space_eval(D2VEmbedder.hyper_space(),hype.best['d2v']))\n",
    "pprint(space_eval(CountVecEmbedder.hyper_space(),hype.best['countvec']))\n",
    "pprint(space_eval(BPembEmbedder.hyper_space(),hype.best['bpemp']))\n",
    "pprint(space_eval(BERTEmbedder.hyper_space(),hype.best['bert']))"
   ]
  }
 ],
 "metadata": {
  "kernelspec": {
   "display_name": "Python 3 (ipykernel)",
   "language": "python",
   "name": "python3"
  },
  "language_info": {
   "codemirror_mode": {
    "name": "ipython",
    "version": 3
   },
   "file_extension": ".py",
   "mimetype": "text/x-python",
   "name": "python",
   "nbconvert_exporter": "python",
   "pygments_lexer": "ipython3",
   "version": "3.9.16"
  },
  "vscode": {
   "interpreter": {
    "hash": "47b9ebd42006c1dc8745b014f20b2c57d8cdc5dec3fe9a4daee3641bdc326575"
   }
  }
 },
 "nbformat": 4,
 "nbformat_minor": 5
}
