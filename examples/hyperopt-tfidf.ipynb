{
 "cells": [
  {
   "cell_type": "code",
   "execution_count": 1,
   "id": "393406a8",
   "metadata": {},
   "outputs": [],
   "source": [
    "from pathlib import Path\n",
    "from pprint import pprint\n",
    "from docembedder.hyperopt.utils import ModelHyperopt\n",
    "from docembedder.models import TfidfEmbedder\n",
    "from docembedder.utils import SimulationSpecification\n",
    "from docembedder.preprocessor import Preprocessor\n",
    "from docembedder.preprocessor.oldprep import OldPreprocessor\n",
    "from docembedder.classification import PatentClassification\n",
    "from docembedder.analysis import _compute_cpc_cor\n",
    "from multiprocessing import Pool\n",
    "from docembedder.hyperopt.parallel import get_patent_data_multi\n",
    "from configparser import ConfigParser\n",
    "import pickle\n",
    "import numpy as np"
   ]
  },
  {
   "cell_type": "code",
   "execution_count": 2,
   "id": "8a444e8e",
   "metadata": {},
   "outputs": [],
   "source": [
    "sim_spec = SimulationSpecification(\n",
    "    year_start=1838,\n",
    "    year_end=1950,\n",
    "    window_size=25,\n",
    "    debug_max_patents=200,\n",
    ")\n",
    "config = ConfigParser()\n",
    "_ = config.read(\"setup.ini\")\n",
    "hyper_fp = Path(config[\"DATA\"][\"hyper_dir\"], \"tfidf_trials.pkl\")"
   ]
  },
  {
   "cell_type": "code",
   "execution_count": 3,
   "id": "7b62e901",
   "metadata": {},
   "outputs": [],
   "source": [
    "# set general parameters\n",
    "hype = ModelHyperopt(\n",
    "    sim_spec=sim_spec,\n",
    "    cpc_fp=Path(config[\"DATA\"][\"cpc_file\"]),\n",
    "    patent_dir=Path(config[\"DATA\"][\"patent_dir\"]),\n",
    "    trials=hyper_fp\n",
    ")"
   ]
  },
  {
   "cell_type": "code",
   "execution_count": 4,
   "id": "e4578325",
   "metadata": {},
   "outputs": [],
   "source": [
    "hype.optimize(label=\"tfidf\", model=TfidfEmbedder, max_evals=160, n_jobs=10)"
   ]
  },
  {
   "cell_type": "code",
   "execution_count": 5,
   "id": "87a9e019",
   "metadata": {},
   "outputs": [
    {
     "data": {
      "text/html": [
       "<div>\n",
       "<style scoped>\n",
       "    .dataframe tbody tr th:only-of-type {\n",
       "        vertical-align: middle;\n",
       "    }\n",
       "\n",
       "    .dataframe tbody tr th {\n",
       "        vertical-align: top;\n",
       "    }\n",
       "\n",
       "    .dataframe thead th {\n",
       "        text-align: right;\n",
       "    }\n",
       "</style>\n",
       "<table border=\"1\" class=\"dataframe\">\n",
       "  <thead>\n",
       "    <tr style=\"text-align: right;\">\n",
       "      <th></th>\n",
       "      <th>max_df</th>\n",
       "      <th>min_df</th>\n",
       "      <th>ngram_max</th>\n",
       "      <th>norm</th>\n",
       "      <th>stem</th>\n",
       "      <th>stop_words</th>\n",
       "      <th>sublinear_tf</th>\n",
       "      <th>loss</th>\n",
       "    </tr>\n",
       "  </thead>\n",
       "  <tbody>\n",
       "    <tr>\n",
       "      <th>119</th>\n",
       "      <td>0.528471</td>\n",
       "      <td>9</td>\n",
       "      <td>1</td>\n",
       "      <td>l1</td>\n",
       "      <td>True</td>\n",
       "      <td>english</td>\n",
       "      <td>True</td>\n",
       "      <td>-0.157901</td>\n",
       "    </tr>\n",
       "    <tr>\n",
       "      <th>110</th>\n",
       "      <td>0.512683</td>\n",
       "      <td>7</td>\n",
       "      <td>1</td>\n",
       "      <td>l1</td>\n",
       "      <td>True</td>\n",
       "      <td>english</td>\n",
       "      <td>True</td>\n",
       "      <td>-0.157847</td>\n",
       "    </tr>\n",
       "    <tr>\n",
       "      <th>141</th>\n",
       "      <td>0.509183</td>\n",
       "      <td>8</td>\n",
       "      <td>1</td>\n",
       "      <td>l1</td>\n",
       "      <td>True</td>\n",
       "      <td>english</td>\n",
       "      <td>True</td>\n",
       "      <td>-0.157826</td>\n",
       "    </tr>\n",
       "    <tr>\n",
       "      <th>148</th>\n",
       "      <td>0.503484</td>\n",
       "      <td>8</td>\n",
       "      <td>1</td>\n",
       "      <td>l1</td>\n",
       "      <td>True</td>\n",
       "      <td>english</td>\n",
       "      <td>True</td>\n",
       "      <td>-0.157819</td>\n",
       "    </tr>\n",
       "    <tr>\n",
       "      <th>145</th>\n",
       "      <td>0.506128</td>\n",
       "      <td>8</td>\n",
       "      <td>1</td>\n",
       "      <td>l1</td>\n",
       "      <td>True</td>\n",
       "      <td>english</td>\n",
       "      <td>True</td>\n",
       "      <td>-0.157818</td>\n",
       "    </tr>\n",
       "    <tr>\n",
       "      <th>...</th>\n",
       "      <td>...</td>\n",
       "      <td>...</td>\n",
       "      <td>...</td>\n",
       "      <td>...</td>\n",
       "      <td>...</td>\n",
       "      <td>...</td>\n",
       "      <td>...</td>\n",
       "      <td>...</td>\n",
       "    </tr>\n",
       "    <tr>\n",
       "      <th>40</th>\n",
       "      <td>0.537952</td>\n",
       "      <td>1</td>\n",
       "      <td>2</td>\n",
       "      <td>None</td>\n",
       "      <td>False</td>\n",
       "      <td>None</td>\n",
       "      <td>True</td>\n",
       "      <td>-0.079427</td>\n",
       "    </tr>\n",
       "    <tr>\n",
       "      <th>99</th>\n",
       "      <td>0.603661</td>\n",
       "      <td>5</td>\n",
       "      <td>1</td>\n",
       "      <td>None</td>\n",
       "      <td>True</td>\n",
       "      <td>english</td>\n",
       "      <td>True</td>\n",
       "      <td>-0.078720</td>\n",
       "    </tr>\n",
       "    <tr>\n",
       "      <th>82</th>\n",
       "      <td>0.715661</td>\n",
       "      <td>3</td>\n",
       "      <td>1</td>\n",
       "      <td>None</td>\n",
       "      <td>True</td>\n",
       "      <td>english</td>\n",
       "      <td>True</td>\n",
       "      <td>-0.077535</td>\n",
       "    </tr>\n",
       "    <tr>\n",
       "      <th>8</th>\n",
       "      <td>0.944509</td>\n",
       "      <td>3</td>\n",
       "      <td>3</td>\n",
       "      <td>None</td>\n",
       "      <td>False</td>\n",
       "      <td>None</td>\n",
       "      <td>False</td>\n",
       "      <td>-0.076444</td>\n",
       "    </tr>\n",
       "    <tr>\n",
       "      <th>12</th>\n",
       "      <td>0.935192</td>\n",
       "      <td>4</td>\n",
       "      <td>1</td>\n",
       "      <td>None</td>\n",
       "      <td>False</td>\n",
       "      <td>None</td>\n",
       "      <td>True</td>\n",
       "      <td>-0.071211</td>\n",
       "    </tr>\n",
       "  </tbody>\n",
       "</table>\n",
       "<p>160 rows × 8 columns</p>\n",
       "</div>"
      ],
      "text/plain": [
       "       max_df  min_df  ngram_max  norm   stem stop_words  sublinear_tf  \\\n",
       "119  0.528471       9          1    l1   True    english          True   \n",
       "110  0.512683       7          1    l1   True    english          True   \n",
       "141  0.509183       8          1    l1   True    english          True   \n",
       "148  0.503484       8          1    l1   True    english          True   \n",
       "145  0.506128       8          1    l1   True    english          True   \n",
       "..        ...     ...        ...   ...    ...        ...           ...   \n",
       "40   0.537952       1          2  None  False       None          True   \n",
       "99   0.603661       5          1  None   True    english          True   \n",
       "82   0.715661       3          1  None   True    english          True   \n",
       "8    0.944509       3          3  None  False       None         False   \n",
       "12   0.935192       4          1  None  False       None          True   \n",
       "\n",
       "         loss  \n",
       "119 -0.157901  \n",
       "110 -0.157847  \n",
       "141 -0.157826  \n",
       "148 -0.157819  \n",
       "145 -0.157818  \n",
       "..        ...  \n",
       "40  -0.079427  \n",
       "99  -0.078720  \n",
       "82  -0.077535  \n",
       "8   -0.076444  \n",
       "12  -0.071211  \n",
       "\n",
       "[160 rows x 8 columns]"
      ]
     },
     "execution_count": 5,
     "metadata": {},
     "output_type": "execute_result"
    }
   ],
   "source": [
    "best_model = hype.best_model(\"tfidf\", TfidfEmbedder)\n",
    "hype.dataframe(\"tfidf\", TfidfEmbedder)"
   ]
  },
  {
   "cell_type": "code",
   "execution_count": 6,
   "id": "ffeb9cb9",
   "metadata": {},
   "outputs": [],
   "source": [
    "from docembedder.hyperopt.utils import PreprocessorHyperopt\n",
    "hyper_prep_fp = Path(config[\"DATA\"][\"hyper_dir\"], \"prep_tfidf.pkl\")\n",
    "\n",
    "hype_prep = PreprocessorHyperopt(\n",
    "    sim_spec=sim_spec,\n",
    "    cpc_fp = Path(config[\"DATA\"][\"cpc_file\"]),\n",
    "    patent_dir = Path(config[\"DATA\"][\"patent_dir\"]),\n",
    "    trials = hyper_prep_fp\n",
    ")"
   ]
  },
  {
   "cell_type": "code",
   "execution_count": 7,
   "id": "e5ce579e",
   "metadata": {},
   "outputs": [
    {
     "name": "stderr",
     "output_type": "stream",
     "text": [
      "100%|███████████████████████████████████████████████████████████████| 8/8 [00:00<00:00, 157532.54it/s]\n"
     ]
    }
   ],
   "source": [
    "hype_prep.optimize(\"normal\", best_model, Preprocessor, n_jobs=8)"
   ]
  },
  {
   "cell_type": "code",
   "execution_count": 8,
   "id": "fd623636",
   "metadata": {},
   "outputs": [
    {
     "data": {
      "text/html": [
       "<div>\n",
       "<style scoped>\n",
       "    .dataframe tbody tr th:only-of-type {\n",
       "        vertical-align: middle;\n",
       "    }\n",
       "\n",
       "    .dataframe tbody tr th {\n",
       "        vertical-align: top;\n",
       "    }\n",
       "\n",
       "    .dataframe thead th {\n",
       "        text-align: right;\n",
       "    }\n",
       "</style>\n",
       "<table border=\"1\" class=\"dataframe\">\n",
       "  <thead>\n",
       "    <tr style=\"text-align: right;\">\n",
       "      <th></th>\n",
       "      <th>keep_caps</th>\n",
       "      <th>keep_start_section</th>\n",
       "      <th>remove_non_alpha</th>\n",
       "      <th>loss</th>\n",
       "    </tr>\n",
       "  </thead>\n",
       "  <tbody>\n",
       "    <tr>\n",
       "      <th>0</th>\n",
       "      <td>True</td>\n",
       "      <td>True</td>\n",
       "      <td>True</td>\n",
       "      <td>-0.159937</td>\n",
       "    </tr>\n",
       "    <tr>\n",
       "      <th>4</th>\n",
       "      <td>False</td>\n",
       "      <td>True</td>\n",
       "      <td>True</td>\n",
       "      <td>-0.159937</td>\n",
       "    </tr>\n",
       "    <tr>\n",
       "      <th>3</th>\n",
       "      <td>True</td>\n",
       "      <td>False</td>\n",
       "      <td>False</td>\n",
       "      <td>-0.157901</td>\n",
       "    </tr>\n",
       "    <tr>\n",
       "      <th>7</th>\n",
       "      <td>False</td>\n",
       "      <td>False</td>\n",
       "      <td>False</td>\n",
       "      <td>-0.157901</td>\n",
       "    </tr>\n",
       "    <tr>\n",
       "      <th>1</th>\n",
       "      <td>True</td>\n",
       "      <td>True</td>\n",
       "      <td>False</td>\n",
       "      <td>-0.157654</td>\n",
       "    </tr>\n",
       "    <tr>\n",
       "      <th>5</th>\n",
       "      <td>False</td>\n",
       "      <td>True</td>\n",
       "      <td>False</td>\n",
       "      <td>-0.157654</td>\n",
       "    </tr>\n",
       "    <tr>\n",
       "      <th>2</th>\n",
       "      <td>True</td>\n",
       "      <td>False</td>\n",
       "      <td>True</td>\n",
       "      <td>-0.156188</td>\n",
       "    </tr>\n",
       "    <tr>\n",
       "      <th>6</th>\n",
       "      <td>False</td>\n",
       "      <td>False</td>\n",
       "      <td>True</td>\n",
       "      <td>-0.156188</td>\n",
       "    </tr>\n",
       "  </tbody>\n",
       "</table>\n",
       "</div>"
      ],
      "text/plain": [
       "   keep_caps  keep_start_section  remove_non_alpha      loss\n",
       "0       True                True              True -0.159937\n",
       "4      False                True              True -0.159937\n",
       "3       True               False             False -0.157901\n",
       "7      False               False             False -0.157901\n",
       "1       True                True             False -0.157654\n",
       "5      False                True             False -0.157654\n",
       "2       True               False              True -0.156188\n",
       "6      False               False              True -0.156188"
      ]
     },
     "execution_count": 8,
     "metadata": {},
     "output_type": "execute_result"
    }
   ],
   "source": [
    "hype_prep.dataframe(\"normal\")"
   ]
  },
  {
   "cell_type": "code",
   "execution_count": 9,
   "id": "9cb9b5e2",
   "metadata": {},
   "outputs": [
    {
     "name": "stderr",
     "output_type": "stream",
     "text": [
      "100%|████████████████████████████████████████████████████████████████| 1/1 [00:00<00:00, 31536.12it/s]\n"
     ]
    }
   ],
   "source": [
    "hype_prep.optimize(\"old\", best_model, OldPreprocessor, n_jobs=8)"
   ]
  },
  {
   "cell_type": "code",
   "execution_count": 10,
   "id": "a7dc0509",
   "metadata": {},
   "outputs": [
    {
     "data": {
      "text/html": [
       "<div>\n",
       "<style scoped>\n",
       "    .dataframe tbody tr th:only-of-type {\n",
       "        vertical-align: middle;\n",
       "    }\n",
       "\n",
       "    .dataframe tbody tr th {\n",
       "        vertical-align: top;\n",
       "    }\n",
       "\n",
       "    .dataframe thead th {\n",
       "        text-align: right;\n",
       "    }\n",
       "</style>\n",
       "<table border=\"1\" class=\"dataframe\">\n",
       "  <thead>\n",
       "    <tr style=\"text-align: right;\">\n",
       "      <th></th>\n",
       "      <th>loss</th>\n",
       "    </tr>\n",
       "  </thead>\n",
       "  <tbody>\n",
       "    <tr>\n",
       "      <th>0</th>\n",
       "      <td>-0.160009</td>\n",
       "    </tr>\n",
       "  </tbody>\n",
       "</table>\n",
       "</div>"
      ],
      "text/plain": [
       "       loss\n",
       "0 -0.160009"
      ]
     },
     "execution_count": 10,
     "metadata": {},
     "output_type": "execute_result"
    }
   ],
   "source": [
    "hype_prep.dataframe(\"old\")"
   ]
  },
  {
   "cell_type": "code",
   "execution_count": 11,
   "id": "969050e4",
   "metadata": {},
   "outputs": [],
   "source": [
    "hyper_fp_2 = Path(config[\"DATA\"][\"hyper_dir\"], \"tfidf_trials_2.pkl\")\n",
    "\n",
    "hype_2 = ModelHyperopt(\n",
    "    sim_spec=sim_spec,\n",
    "    cpc_fp=Path(config[\"DATA\"][\"cpc_file\"]),\n",
    "    patent_dir=Path(config[\"DATA\"][\"patent_dir\"]),\n",
    "    preprocessor=hype_prep.best_preprocessor(\"normal\", Preprocessor),\n",
    "    trials=hyper_fp_2,\n",
    ")"
   ]
  },
  {
   "cell_type": "code",
   "execution_count": 12,
   "id": "62500d04",
   "metadata": {},
   "outputs": [],
   "source": [
    "hype_2.optimize(label=\"tfidf2\", model=TfidfEmbedder, max_evals=160, n_jobs=9)"
   ]
  },
  {
   "cell_type": "code",
   "execution_count": 13,
   "id": "e2b7b6a8",
   "metadata": {},
   "outputs": [
    {
     "data": {
      "text/html": [
       "<div>\n",
       "<style scoped>\n",
       "    .dataframe tbody tr th:only-of-type {\n",
       "        vertical-align: middle;\n",
       "    }\n",
       "\n",
       "    .dataframe tbody tr th {\n",
       "        vertical-align: top;\n",
       "    }\n",
       "\n",
       "    .dataframe thead th {\n",
       "        text-align: right;\n",
       "    }\n",
       "</style>\n",
       "<table border=\"1\" class=\"dataframe\">\n",
       "  <thead>\n",
       "    <tr style=\"text-align: right;\">\n",
       "      <th></th>\n",
       "      <th>max_df</th>\n",
       "      <th>min_df</th>\n",
       "      <th>ngram_max</th>\n",
       "      <th>norm</th>\n",
       "      <th>stem</th>\n",
       "      <th>stop_words</th>\n",
       "      <th>sublinear_tf</th>\n",
       "      <th>loss</th>\n",
       "    </tr>\n",
       "  </thead>\n",
       "  <tbody>\n",
       "    <tr>\n",
       "      <th>69</th>\n",
       "      <td>0.665461</td>\n",
       "      <td>6</td>\n",
       "      <td>1</td>\n",
       "      <td>l1</td>\n",
       "      <td>False</td>\n",
       "      <td>english</td>\n",
       "      <td>True</td>\n",
       "      <td>-0.160155</td>\n",
       "    </tr>\n",
       "    <tr>\n",
       "      <th>68</th>\n",
       "      <td>0.666169</td>\n",
       "      <td>6</td>\n",
       "      <td>1</td>\n",
       "      <td>l1</td>\n",
       "      <td>False</td>\n",
       "      <td>english</td>\n",
       "      <td>True</td>\n",
       "      <td>-0.160149</td>\n",
       "    </tr>\n",
       "    <tr>\n",
       "      <th>155</th>\n",
       "      <td>0.760838</td>\n",
       "      <td>6</td>\n",
       "      <td>1</td>\n",
       "      <td>l1</td>\n",
       "      <td>False</td>\n",
       "      <td>english</td>\n",
       "      <td>True</td>\n",
       "      <td>-0.160139</td>\n",
       "    </tr>\n",
       "    <tr>\n",
       "      <th>70</th>\n",
       "      <td>0.658734</td>\n",
       "      <td>6</td>\n",
       "      <td>1</td>\n",
       "      <td>l1</td>\n",
       "      <td>False</td>\n",
       "      <td>english</td>\n",
       "      <td>True</td>\n",
       "      <td>-0.160129</td>\n",
       "    </tr>\n",
       "    <tr>\n",
       "      <th>148</th>\n",
       "      <td>0.659343</td>\n",
       "      <td>6</td>\n",
       "      <td>1</td>\n",
       "      <td>l1</td>\n",
       "      <td>False</td>\n",
       "      <td>english</td>\n",
       "      <td>True</td>\n",
       "      <td>-0.160128</td>\n",
       "    </tr>\n",
       "    <tr>\n",
       "      <th>73</th>\n",
       "      <td>0.662721</td>\n",
       "      <td>6</td>\n",
       "      <td>1</td>\n",
       "      <td>l1</td>\n",
       "      <td>False</td>\n",
       "      <td>english</td>\n",
       "      <td>True</td>\n",
       "      <td>-0.160115</td>\n",
       "    </tr>\n",
       "    <tr>\n",
       "      <th>57</th>\n",
       "      <td>0.753990</td>\n",
       "      <td>6</td>\n",
       "      <td>1</td>\n",
       "      <td>l1</td>\n",
       "      <td>False</td>\n",
       "      <td>english</td>\n",
       "      <td>True</td>\n",
       "      <td>-0.160107</td>\n",
       "    </tr>\n",
       "    <tr>\n",
       "      <th>145</th>\n",
       "      <td>0.673232</td>\n",
       "      <td>6</td>\n",
       "      <td>1</td>\n",
       "      <td>l1</td>\n",
       "      <td>False</td>\n",
       "      <td>english</td>\n",
       "      <td>True</td>\n",
       "      <td>-0.160094</td>\n",
       "    </tr>\n",
       "    <tr>\n",
       "      <th>42</th>\n",
       "      <td>0.684051</td>\n",
       "      <td>7</td>\n",
       "      <td>1</td>\n",
       "      <td>l1</td>\n",
       "      <td>False</td>\n",
       "      <td>english</td>\n",
       "      <td>True</td>\n",
       "      <td>-0.160089</td>\n",
       "    </tr>\n",
       "    <tr>\n",
       "      <th>95</th>\n",
       "      <td>0.671353</td>\n",
       "      <td>6</td>\n",
       "      <td>1</td>\n",
       "      <td>l1</td>\n",
       "      <td>False</td>\n",
       "      <td>english</td>\n",
       "      <td>True</td>\n",
       "      <td>-0.160078</td>\n",
       "    </tr>\n",
       "  </tbody>\n",
       "</table>\n",
       "</div>"
      ],
      "text/plain": [
       "       max_df  min_df  ngram_max norm   stem stop_words  sublinear_tf  \\\n",
       "69   0.665461       6          1   l1  False    english          True   \n",
       "68   0.666169       6          1   l1  False    english          True   \n",
       "155  0.760838       6          1   l1  False    english          True   \n",
       "70   0.658734       6          1   l1  False    english          True   \n",
       "148  0.659343       6          1   l1  False    english          True   \n",
       "73   0.662721       6          1   l1  False    english          True   \n",
       "57   0.753990       6          1   l1  False    english          True   \n",
       "145  0.673232       6          1   l1  False    english          True   \n",
       "42   0.684051       7          1   l1  False    english          True   \n",
       "95   0.671353       6          1   l1  False    english          True   \n",
       "\n",
       "         loss  \n",
       "69  -0.160155  \n",
       "68  -0.160149  \n",
       "155 -0.160139  \n",
       "70  -0.160129  \n",
       "148 -0.160128  \n",
       "73  -0.160115  \n",
       "57  -0.160107  \n",
       "145 -0.160094  \n",
       "42  -0.160089  \n",
       "95  -0.160078  "
      ]
     },
     "execution_count": 13,
     "metadata": {},
     "output_type": "execute_result"
    }
   ],
   "source": [
    "hype_2.dataframe(\"tfidf2\", TfidfEmbedder).head(10)"
   ]
  },
  {
   "cell_type": "code",
   "execution_count": 14,
   "id": "10b88104",
   "metadata": {},
   "outputs": [],
   "source": [
    "new_hype = PreprocessorHyperopt(\n",
    "    sim_spec=sim_spec,\n",
    "    cpc_fp = Path(config[\"DATA\"][\"cpc_file\"]),\n",
    "    patent_dir = Path(config[\"DATA\"][\"patent_dir\"]),\n",
    ")"
   ]
  },
  {
   "cell_type": "code",
   "execution_count": 15,
   "id": "d1cf35ff",
   "metadata": {},
   "outputs": [
    {
     "name": "stderr",
     "output_type": "stream",
     "text": [
      "100%|████████████████████████████████████████████████████████████████| 8/8 [1:09:43<00:00, 522.98s/it]\n"
     ]
    }
   ],
   "source": [
    "new_hype.optimize(\"normal\", hype_2.best_model(\"tfidf2\", TfidfEmbedder), Preprocessor, n_jobs=8,\n",
    "                  lexicon_path=\"../data/unigram_freq.csv\")"
   ]
  },
  {
   "cell_type": "code",
   "execution_count": 23,
   "id": "c8bdf24c",
   "metadata": {},
   "outputs": [
    {
     "data": {
      "text/plain": [
       "0   -0.160205\n",
       "4   -0.160205\n",
       "3   -0.156103\n",
       "7   -0.156103\n",
       "1   -0.155361\n",
       "5   -0.155361\n",
       "2   -0.152430\n",
       "6   -0.152430\n",
       "Name: loss, dtype: float64"
      ]
     },
     "execution_count": 23,
     "metadata": {},
     "output_type": "execute_result"
    }
   ],
   "source": [
    "new_hype.dataframe(\"normal\").loss"
   ]
  },
  {
   "cell_type": "code",
   "execution_count": 17,
   "id": "0db3913d",
   "metadata": {},
   "outputs": [
    {
     "name": "stderr",
     "output_type": "stream",
     "text": [
      "100%|████████████████████████████████████████████████████████████████| 8/8 [1:06:47<00:00, 500.99s/it]\n"
     ]
    }
   ],
   "source": [
    "new_hype.optimize(\"normal-no-dict\", hype_2.best_model(\"tfidf2\", TfidfEmbedder), Preprocessor, n_jobs=8)"
   ]
  },
  {
   "cell_type": "code",
   "execution_count": 22,
   "id": "60e5d2e4",
   "metadata": {},
   "outputs": [
    {
     "data": {
      "text/plain": [
       "0   -0.160155\n",
       "4   -0.160155\n",
       "3   -0.156219\n",
       "7   -0.156219\n",
       "1   -0.155412\n",
       "5   -0.155412\n",
       "2   -0.152397\n",
       "6   -0.152397\n",
       "Name: loss, dtype: float64"
      ]
     },
     "execution_count": 22,
     "metadata": {},
     "output_type": "execute_result"
    }
   ],
   "source": [
    "new_hype.dataframe(\"normal-no-dict\").loss"
   ]
  },
  {
   "cell_type": "code",
   "execution_count": null,
   "id": "71967b3a",
   "metadata": {},
   "outputs": [],
   "source": []
  }
 ],
 "metadata": {
  "kernelspec": {
   "display_name": "Python 3 (ipykernel)",
   "language": "python",
   "name": "python3"
  },
  "language_info": {
   "codemirror_mode": {
    "name": "ipython",
    "version": 3
   },
   "file_extension": ".py",
   "mimetype": "text/x-python",
   "name": "python",
   "nbconvert_exporter": "python",
   "pygments_lexer": "ipython3",
   "version": "3.10.4"
  },
  "vscode": {
   "interpreter": {
    "hash": "47b9ebd42006c1dc8745b014f20b2c57d8cdc5dec3fe9a4daee3641bdc326575"
   }
  }
 },
 "nbformat": 4,
 "nbformat_minor": 5
}
