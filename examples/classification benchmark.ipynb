{
 "cells": [
  {
   "cell_type": "code",
   "execution_count": 1,
   "id": "a91a1035",
   "metadata": {},
   "outputs": [],
   "source": [
    "from docembedder.preprocessor.preprocessor import Preprocessor\n",
    "from docembedder.classification import PatentClassification\n",
    "from docembedder import BERTEmbedder, TfidfEmbedder\n",
    "from matplotlib import pyplot as plt\n",
    "import logging\n",
    "from pathlib import Path\n",
    "from tqdm import tqdm\n",
    "from scipy import stats"
   ]
  },
  {
   "cell_type": "code",
   "execution_count": 2,
   "id": "a7d0ef11",
   "metadata": {},
   "outputs": [],
   "source": [
    "fp = Path(\"../data/unprocessed/0000000-0100000\\uf026GP_all_text_4.jsonl\")"
   ]
  },
  {
   "cell_type": "code",
   "execution_count": 3,
   "id": "5a426878",
   "metadata": {},
   "outputs": [],
   "source": [
    "prep = Preprocessor(log_level=logging.ERROR)"
   ]
  },
  {
   "cell_type": "code",
   "execution_count": 4,
   "id": "f0335f75",
   "metadata": {},
   "outputs": [
    {
     "name": "stdout",
     "output_type": "stream",
     "text": [
      "CPU times: user 44.1 s, sys: 0 ns, total: 44.1 s\n",
      "Wall time: 44.1 s\n"
     ]
    }
   ],
   "source": [
    "%%time\n",
    "\n",
    "patents, prep_stats = prep.preprocess_file(fp)"
   ]
  },
  {
   "cell_type": "code",
   "execution_count": 5,
   "id": "b61642e3",
   "metadata": {},
   "outputs": [
    {
     "data": {
      "text/plain": [
       "{'processed': 14639, 'skipped_empty': 361, 'skipped_no_year': 0}"
      ]
     },
     "execution_count": 5,
     "metadata": {},
     "output_type": "execute_result"
    }
   ],
   "source": [
    "prep_stats"
   ]
  },
  {
   "cell_type": "code",
   "execution_count": 6,
   "id": "af823ba3",
   "metadata": {},
   "outputs": [],
   "source": [
    "model = BERTEmbedder()\n",
    "tfidf_model = TfidfEmbedder()"
   ]
  },
  {
   "cell_type": "code",
   "execution_count": 7,
   "id": "babe1a8e",
   "metadata": {},
   "outputs": [
    {
     "name": "stdout",
     "output_type": "stream",
     "text": [
      "CPU times: user 49 s, sys: 549 ms, total: 49.6 s\n",
      "Wall time: 43.7 s\n"
     ]
    }
   ],
   "source": [
    "%%time\n",
    "\n",
    "documents = [p[\"contents\"] for p in patents][:1000]\n",
    "embeddings = model.transform(documents)"
   ]
  },
  {
   "cell_type": "code",
   "execution_count": 8,
   "id": "d00529d1",
   "metadata": {},
   "outputs": [
    {
     "name": "stdout",
     "output_type": "stream",
     "text": [
      "CPU times: user 457 ms, sys: 32 µs, total: 457 ms\n",
      "Wall time: 457 ms\n"
     ]
    }
   ],
   "source": [
    "%%time\n",
    "tfidf_model.fit(documents)\n",
    "tfidf_embeddings = tfidf_model.transform(documents)"
   ]
  },
  {
   "cell_type": "code",
   "execution_count": 9,
   "id": "9879ff84",
   "metadata": {},
   "outputs": [],
   "source": [
    "import numpy as np\n",
    "cross_cor = np.dot(embeddings, embeddings.T)\n",
    "cross_cor_tfidf = tfidf_embeddings.dot(tfidf_embeddings.T)"
   ]
  },
  {
   "cell_type": "code",
   "execution_count": 10,
   "id": "f3640268",
   "metadata": {},
   "outputs": [
    {
     "name": "stdout",
     "output_type": "stream",
     "text": [
      "CPU times: user 1min 42s, sys: 513 ms, total: 1min 43s\n",
      "Wall time: 1min 42s\n"
     ]
    }
   ],
   "source": [
    "%%time\n",
    "\n",
    "pc = PatentClassification(\"../data/GPCPCs.txt\")\n",
    "class_matrix = np.zeros((len(documents), len(documents)))\n",
    "\n",
    "for i_patent in range(len(documents)):\n",
    "    patent_id_i = patents[i_patent][\"patent\"]\n",
    "    for j_patent in range(i_patent+1, len(documents)):\n",
    "        patent_id_j = patents[j_patent][\"patent\"]\n",
    "        class_matrix[i_patent, j_patent] = pc.get_similarity(patent_id_i, patent_id_j)"
   ]
  },
  {
   "cell_type": "code",
   "execution_count": 11,
   "id": "803dbb34",
   "metadata": {},
   "outputs": [],
   "source": [
    "class_cor = class_matrix[np.triu_indices(len(documents), k=1)]\n",
    "model_cor = cross_cor[np.triu_indices(len(documents), k=1)]\n",
    "tfidf_cor = cross_cor_tfidf[np.triu_indices(len(documents), k=1)]\n",
    "tfidf_cor = np.asarray(tfidf_cor).flatten()"
   ]
  },
  {
   "cell_type": "code",
   "execution_count": 12,
   "id": "97e03fc6",
   "metadata": {},
   "outputs": [
    {
     "data": {
      "text/plain": [
       "(SpearmanrResult(correlation=0.03405715501931589, pvalue=4.3621724684332553e-128),\n",
       " SpearmanrResult(correlation=0.11892645848988091, pvalue=0.0))"
      ]
     },
     "execution_count": 12,
     "metadata": {},
     "output_type": "execute_result"
    }
   ],
   "source": [
    "stats.spearmanr(class_cor, model_cor), stats.spearmanr(class_cor, tfidf_cor)"
   ]
  },
  {
   "cell_type": "code",
   "execution_count": null,
   "id": "0b57a036",
   "metadata": {},
   "outputs": [],
   "source": []
  }
 ],
 "metadata": {
  "kernelspec": {
   "display_name": "Python 3 (ipykernel)",
   "language": "python",
   "name": "python3"
  },
  "language_info": {
   "codemirror_mode": {
    "name": "ipython",
    "version": 3
   },
   "file_extension": ".py",
   "mimetype": "text/x-python",
   "name": "python",
   "nbconvert_exporter": "python",
   "pygments_lexer": "ipython3",
   "version": "3.9.9"
  }
 },
 "nbformat": 4,
 "nbformat_minor": 5
}
