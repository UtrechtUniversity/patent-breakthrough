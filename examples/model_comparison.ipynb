{
 "cells": [
  {
   "cell_type": "code",
   "execution_count": 1,
   "id": "ee4e9e19",
   "metadata": {},
   "outputs": [],
   "source": [
    "import logging\n",
    "logging.getLogger().setLevel(logging.ERROR)\n",
    "from pathlib import Path\n",
    "from collections import defaultdict\n",
    "\n",
    "import numpy as np\n",
    "from scipy import stats\n",
    "from tqdm import tqdm\n",
    "from matplotlib import pyplot as plt\n",
    "\n",
    "from docembedder.preprocessor.preprocessor import Preprocessor\n",
    "from docembedder.analysis import get_model_correlations, classification_benchmark\n",
    "from docembedder import BERTEmbedder, TfidfEmbedder, D2VEmbedder, BPembEmbedder"
   ]
  },
  {
   "cell_type": "code",
   "execution_count": 2,
   "id": "b96266f8",
   "metadata": {},
   "outputs": [],
   "source": [
    "data_dir = Path(\"..\", \"data\")\n",
    "unprocessed_dir = data_dir / \"unprocessed\""
   ]
  },
  {
   "cell_type": "code",
   "execution_count": 3,
   "id": "97e9eee6",
   "metadata": {},
   "outputs": [],
   "source": [
    "prep = Preprocessor(log_level=logging.ERROR)"
   ]
  },
  {
   "cell_type": "code",
   "execution_count": 4,
   "id": "14975f9a",
   "metadata": {},
   "outputs": [
    {
     "name": "stderr",
     "output_type": "stream",
     "text": [
      "Some weights of the model checkpoint at /home/qubix/.cache/torch/sentence_transformers/anferico_bert-for-patents were not used when initializing BertModel: ['cls.predictions.transform.dense.weight', 'cls.predictions.transform.LayerNorm.bias', 'cls.predictions.decoder.bias', 'cls.predictions.transform.LayerNorm.weight', 'cls.seq_relationship.weight', 'cls.predictions.decoder.weight', 'cls.seq_relationship.bias', 'cls.predictions.transform.dense.bias', 'cls.predictions.bias']\n",
      "- This IS expected if you are initializing BertModel from the checkpoint of a model trained on another task or with another architecture (e.g. initializing a BertForSequenceClassification model from a BertForPreTraining model).\n",
      "- This IS NOT expected if you are initializing BertModel from the checkpoint of a model that you expect to be exactly identical (initializing a BertForSequenceClassification model from a BertForSequenceClassification model).\n",
      "[nltk_data] Downloading package punkt to /home/qubix/nltk_data...\n",
      "[nltk_data]   Package punkt is already up-to-date!\n"
     ]
    }
   ],
   "source": [
    "models = {\n",
    "    \"bert-64\": BERTEmbedder(\"prithivida/bert-for-patents-64d\"),\n",
    "    \"bert\": BERTEmbedder(\"anferico/bert-for-patents\"),\n",
    "    \"sberta\": BERTEmbedder(\"AI-Growth-Lab/PatentSBERTa\"),\n",
    "    \"tfidf\": TfidfEmbedder(),\n",
    "    \"doc2vec\": D2VEmbedder(),\n",
    "    \"bpemb\": BPembEmbedder(),\n",
    "}"
   ]
  },
  {
   "cell_type": "code",
   "execution_count": 5,
   "id": "5de3335c",
   "metadata": {
    "scrolled": true
   },
   "outputs": [
    {
     "name": "stderr",
     "output_type": "stream",
     "text": [
      "100%|████████████████████████████████████████████████████████| 112/112 [48:00<00:00, 25.72s/it]"
     ]
    },
    {
     "name": "stdout",
     "output_type": "stream",
     "text": [
      "CPU times: user 1h 12min 46s, sys: 2min 47s, total: 1h 15min 34s\n",
      "Wall time: 48min\n"
     ]
    },
    {
     "name": "stderr",
     "output_type": "stream",
     "text": [
      "\n"
     ]
    }
   ],
   "source": [
    "%%time\n",
    "all_results = defaultdict(lambda: [])\n",
    "all_years = []\n",
    "n_patent_sample = 200\n",
    "n_class_sample = 5000\n",
    "start_year, end_year = 1860, 1880\n",
    "\n",
    "for fp in tqdm(list(unprocessed_dir.glob(\"*.xz\"))):\n",
    "    year = int(fp.stem)\n",
    "    if year < start_year or year > end_year:\n",
    "        continue\n",
    "    patents, prep_stats = prep.preprocess_file(fp)\n",
    "    if year == 0 or len(patents) < 100:\n",
    "        continue\n",
    "\n",
    "    results = classification_benchmark(patents, models, n_patents=n_patent_sample,\n",
    "                                       n_class_sample=n_class_sample)\n",
    "    all_years.append(year)\n",
    "    for model_name, res in results.items():\n",
    "        all_results[model_name].append(res)"
   ]
  },
  {
   "cell_type": "code",
   "execution_count": 6,
   "id": "91cf07b2",
   "metadata": {},
   "outputs": [
    {
     "data": {
      "image/png": "[encoded data removed]",
      "text/plain": [
       "<Figure size 432x288 with 1 Axes>"
      ]
     },
     "metadata": {
      "needs_background": "light"
     },
     "output_type": "display_data"
    }
   ],
   "source": [
    "for model_name, res in all_results.items():\n",
    "    plt.scatter(all_years, res, label=model_name)\n",
    "plt.legend()\n",
    "plt.show()"
   ]
  },
  {
   "cell_type": "code",
   "execution_count": 8,
   "id": "9b9ece63",
   "metadata": {},
   "outputs": [
    {
     "data": {
      "text/plain": [
       "{'bert-64': 0.02571815395181821,\n",
       " 'bert': 0.04946073909798193,\n",
       " 'sberta': 0.09819125062656418,\n",
       " 'tfidf': 0.10262037501722461,\n",
       " 'doc2vec': 0.10550837990504472,\n",
       " 'bpemb': 0.01063808592849024}"
      ]
     },
     "execution_count": 8,
     "metadata": {},
     "output_type": "execute_result"
    }
   ],
   "source": [
    "{name: np.mean(data) for name, data in all_results.items()}"
   ]
  }
 ],
 "metadata": {
  "kernelspec": {
   "display_name": "Python 3 (ipykernel)",
   "language": "python",
   "name": "python3"
  },
  "language_info": {
   "codemirror_mode": {
    "name": "ipython",
    "version": 3
   },
   "file_extension": ".py",
   "mimetype": "text/x-python",
   "name": "python",
   "nbconvert_exporter": "python",
   "pygments_lexer": "ipython3",
   "version": "3.10.4"
  }
 },
 "nbformat": 4,
 "nbformat_minor": 5
}
