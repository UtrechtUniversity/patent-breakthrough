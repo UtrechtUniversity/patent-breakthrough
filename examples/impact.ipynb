{
 "cells": [
  {
   "cell_type": "code",
   "execution_count": 1,
   "id": "891a7783",
   "metadata": {},
   "outputs": [],
   "source": [
    "import logging\n",
    "logging.getLogger().setLevel(logging.ERROR)\n",
    "from pathlib import Path\n",
    "from docembedder import DataModel\n",
    "from docembedder.analysis2 import DocAnalysis\n"
   ]
  },
  {
   "cell_type": "code",
   "execution_count": 2,
   "id": "c0083b07",
   "metadata": {},
   "outputs": [],
   "source": [
    "data_dir =  Path(\"..\", \"data\")\n",
    "output_dir = Path(\"..\", \"data\", \"results\")\n",
    "output_fp = output_dir / \"tfidf.h5\"\n"
   ]
  },
  {
   "cell_type": "code",
   "execution_count": 4,
   "id": "07f7fa48",
   "metadata": {},
   "outputs": [
    {
     "name": "stderr",
     "output_type": "stream",
     "text": [
      "18it [00:07,  2.55it/s]"
     ]
    },
    {
     "name": "stdout",
     "output_type": "stream",
     "text": [
      "CPU times: user 6.74 s, sys: 335 ms, total: 7.07 s\n",
      "Wall time: 7.09 s\n"
     ]
    },
    {
     "name": "stderr",
     "output_type": "stream",
     "text": [
      "\n"
     ]
    }
   ],
   "source": [
    "%%time\n",
    "with DataModel(output_fp, read_only=False) as data:\n",
    "    analysis = DocAnalysis(data)\n",
    "    analysis.patent_impacts()"
   ]
  },
  {
   "cell_type": "code",
   "execution_count": null,
   "id": "89ab4f0d",
   "metadata": {},
   "outputs": [],
   "source": []
  }
 ],
 "metadata": {
  "kernelspec": {
   "display_name": "Python 3 (ipykernel)",
   "language": "python",
   "name": "python3"
  },
  "language_info": {
   "codemirror_mode": {
    "name": "ipython",
    "version": 3
   },
   "file_extension": ".py",
   "mimetype": "text/x-python",
   "name": "python",
   "nbconvert_exporter": "python",
   "pygments_lexer": "ipython3",
   "version": "3.8.15"
  }
 },
 "nbformat": 4,
 "nbformat_minor": 5
}
