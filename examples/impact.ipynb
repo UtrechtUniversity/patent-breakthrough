{
 "cells": [
  {
   "cell_type": "code",
   "execution_count": 1,
   "id": "5d8514bc",
   "metadata": {},
   "outputs": [],
   "source": [
    "import logging\n",
    "logging.getLogger().setLevel(logging.ERROR)\n",
    "from pathlib import Path\n",
    "import numpy as np\n",
    "from pprint import pprint\n",
    "from docembedder.preprocessor.preprocessor import Preprocessor\n",
    "from docembedder.utils import run_models\n",
    "from docembedder.models import TfidfEmbedder\n",
    "from docembedder.utils import SimulationSpecification\n",
    "from docembedder import DataModel\n",
    "from docembedder.analysis2 import DocAnalysis\n",
    "from docembedder.visualization import plot_cpc_correlations\n"
   ]
  },
  {
   "cell_type": "code",
   "execution_count": 2,
   "id": "8c3f1de5",
   "metadata": {},
   "outputs": [],
   "source": [
    "data_dir =  Path(\"..\", \"data\")\n",
    "output_dir = Path(\"..\", \"data\", \"results\")\n",
    "output_fp = output_dir / \"tfidf.h5\"\n"
   ]
  },
  {
   "cell_type": "code",
   "execution_count": 3,
   "id": "de1b53c1",
   "metadata": {},
   "outputs": [
    {
     "name": "stdout",
     "output_type": "stream",
     "text": [
      "CPU times: user 9min 5s, sys: 3.44 s, total: 9min 8s\n",
      "Wall time: 9min 8s\n"
     ]
    }
   ],
   "source": [
    "%%time\n",
    "with DataModel(output_fp, read_only=False) as data:\n",
    "    analysis = DocAnalysis(data)\n",
    "    analysis.compute_impact()"
   ]
  },
  {
   "cell_type": "code",
   "execution_count": null,
   "id": "33005654",
   "metadata": {},
   "outputs": [],
   "source": []
  }
 ],
 "metadata": {
  "kernelspec": {
   "display_name": "Python 3 (ipykernel)",
   "language": "python",
   "name": "python3"
  },
  "language_info": {
   "codemirror_mode": {
    "name": "ipython",
    "version": 3
   },
   "file_extension": ".py",
   "mimetype": "text/x-python",
   "name": "python",
   "nbconvert_exporter": "python",
   "pygments_lexer": "ipython3",
   "version": "3.8.15"
  }
 },
 "nbformat": 4,
 "nbformat_minor": 5
}
