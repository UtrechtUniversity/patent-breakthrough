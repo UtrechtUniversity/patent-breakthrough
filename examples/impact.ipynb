{
 "cells": [
  {
   "cell_type": "code",
   "execution_count": 1,
   "id": "891a7783",
   "metadata": {},
   "outputs": [],
   "source": [
    "import logging\n",
    "logging.getLogger().setLevel(logging.ERROR)\n",
    "from pathlib import Path\n",
    "from docembedder import DataModel\n",
    "from docembedder.analysis2 import DocAnalysis\n"
   ]
  },
  {
   "cell_type": "code",
   "execution_count": 2,
   "id": "c0083b07",
   "metadata": {},
   "outputs": [],
   "source": [
    "data_dir =  Path(\"..\", \"data\")\n",
    "output_dir = Path(\"..\", \"data\", \"results\")\n",
    "output_fp = output_dir / \"tfidf.h5\"\n"
   ]
  },
  {
   "cell_type": "code",
   "execution_count": 3,
   "id": "07f7fa48",
   "metadata": {},
   "outputs": [
    {
     "name": "stderr",
     "output_type": "stream",
     "text": [
      "18it [00:06,  2.61it/s]"
     ]
    },
    {
     "name": "stdout",
     "output_type": "stream",
     "text": [
      "CPU times: user 6.52 s, sys: 385 ms, total: 6.91 s\n",
      "Wall time: 6.93 s\n"
     ]
    },
    {
     "name": "stderr",
     "output_type": "stream",
     "text": [
      "\n"
     ]
    }
   ],
   "source": [
    "%%time\n",
    "with DataModel(output_fp, read_only=False) as data:\n",
    "    analysis = DocAnalysis(data)\n",
    "    analysis.patent_impacts()"
   ]
  },
  {
   "cell_type": "markdown",
   "id": "43ab329f",
   "metadata": {},
   "source": [
    "## retrieve impacts"
   ]
  },
  {
   "cell_type": "code",
   "execution_count": 5,
   "id": "89ab4f0d",
   "metadata": {},
   "outputs": [
    {
     "name": "stdout",
     "output_type": "stream",
     "text": [
      "['cpc', 'embeddings', 'impacts', 'models', 'preprocessors', 'windows']\n"
     ]
    }
   ],
   "source": [
    "import h5py\n",
    "with h5py.File(output_fp) as f:\n",
    "    ls = list(f.keys())\n",
    "    print(ls)"
   ]
  },
  {
   "cell_type": "code",
   "execution_count": 6,
   "id": "718d3dab",
   "metadata": {},
   "outputs": [
    {
     "name": "stdout",
     "output_type": "stream",
     "text": [
      "['default-tfidf-bigram', 'default-tfidf-default', 'default-tfidf-stem']\n"
     ]
    }
   ],
   "source": [
    "with h5py.File(output_fp) as f:\n",
    "    ls = list(f.get('impacts'))\n",
    "    print(ls)"
   ]
  },
  {
   "cell_type": "code",
   "execution_count": 7,
   "id": "4efbff8e",
   "metadata": {},
   "outputs": [
    {
     "name": "stdout",
     "output_type": "stream",
     "text": [
      "['1838-1841', '1840-1843', '1842-1845', '1844-1847', '1846-1849', '1848-1851']\n"
     ]
    }
   ],
   "source": [
    "with h5py.File(output_fp) as f:\n",
    "    ls = list(f.get('impacts/default-tfidf-bigram'))\n",
    "    print(ls)"
   ]
  },
  {
   "cell_type": "code",
   "execution_count": 8,
   "id": "3ad56e74",
   "metadata": {},
   "outputs": [
    {
     "name": "stdout",
     "output_type": "stream",
     "text": [
      "['data']\n"
     ]
    }
   ],
   "source": [
    "with h5py.File(output_fp) as f:\n",
    "    ls = list(f.get('impacts/default-tfidf-bigram/1840-1843'))\n",
    "    print(ls)"
   ]
  },
  {
   "cell_type": "code",
   "execution_count": 9,
   "id": "c552ae9e",
   "metadata": {},
   "outputs": [
    {
     "name": "stdout",
     "output_type": "stream",
     "text": [
      "[nan, nan, nan, nan, nan, nan, nan, nan, nan, nan, nan, nan, nan, nan, nan, nan, nan, nan, nan, nan, nan, nan, nan, nan, nan, nan, nan, nan, nan, nan, nan, nan, nan, nan, nan, nan, nan, nan, nan, nan, nan, nan, nan, nan, nan, nan, nan, nan, nan, nan, nan, nan, nan, nan, nan, nan, nan, nan, nan, nan, nan, nan, nan, nan, nan, nan, nan, nan, nan, nan, nan, nan, nan, nan, nan, nan, nan, nan, nan, nan, nan, nan, nan, nan, nan, nan, nan, nan, nan, nan, nan, nan, nan, nan, nan, nan, nan, nan, nan, nan, 1.0078278518768355, 1.1108260977336206, 1.0120163476827977, 0.957404695578535, 1.0237169312494068, 1.148078718801434, 0.9740575249168308, 1.063775414012895, 1.0829526379874341, 1.1638613094308576, 1.0638968538679956, 0.7004187998528894, 0.9090416724441266, 0.9632802235272873, 1.0633603232626119, 1.0343992158847823, 0.8601110513708589, 1.0260334055563118, 1.0237590027702501, 1.1144320836298285, 0.9952866692223161, 1.1449583440295292, 1.0294559545213102, 0.9909935766824447, 1.2164605152882753, 1.1260516239586045, 0.9576143871120846, 0.8887020752216513, 0.8367869253875616, 0.9691461786577624, 1.1275848667367967, 1.0656483814036928, 0.9779317904434311, 1.051012001609329, 0.8522071164340784, 0.8199018141903253, 1.0561909668738894, 0.9330217989372721, 1.0922563215965886, 0.9444797769400678, 1.2147536038177384, 1.2620224927121897, 1.0252597050916425, 1.085088483984578, 0.9957091777204282, 0.9255106542235357, 0.9663601658907168, 0.9679868655467342, 0.9394797198934114, 0.8903555883396178, 1.0708896705330964, 1.1079782528004583, 1.071140652434881, 1.106620347401885, 1.0480894805007908, 0.8801974230003766, 1.0573935497003752, 0.8697785713667229, 0.6979213522756293, 0.825805550269918, 0.9952486591201792, 1.044561790865965, 0.9229642771995018, 0.9272926221006217, 1.0174939229261288, 0.8962269290511019, 1.0516778615067393, 1.1473048249925764, 0.8627970473897005, 1.1541315245731434, 1.234223897214862, 1.0941223953998966, 0.8715896489791133, 1.0028416245025733, 0.9599759812719858, 1.0835531128582063, 0.95614441121782, 1.115751030621661, 1.137042026550914, 1.036596236268214, 1.0402502497191917, 1.0769655236321114, 0.9586053225206822, 0.9636250127214173, 0.8774593267679829, 0.9418713835853874, 1.068007854333903, 1.0083103636262474, 1.0709767503453937, 1.068391253659929, 1.0160639313420246, 0.8308865859233379, 0.9752545848588958, 1.0578826324607877, 0.8492375926772882, 0.9506141954989595, 0.8260548097666798, 0.9778919393278288, 1.0433406071951645, 0.9655046389112195, 0.8484704462959629, 0.9791327351593196, 1.018506367231487, 1.0121879852019262, 1.11809412280652, 0.9781638255539448, 1.0445381681335686, 1.0076296213407216, 0.855653586789146, 0.9784860501213989, 1.132274123666733, 0.8561419776379954, 1.1587712810851385, 1.0475690552715677, 0.8453681038357684, 1.0696366768690608, 1.0453695504523028, 0.9068905343697456, 1.1982158896079729, 1.034240804960486, 1.0773403642968482, 1.1452021581340945, 1.0139943654704535, 0.9411306088770504, 1.2827726499676402, 1.1394529843077514, 1.0393962886654704, 1.161351854524629, 1.122226901076259, 1.2064280792890592, 1.0703171941459524, 1.1089985024625226, 1.1078274735032105, 1.0381563344135538, 0.819300059323386, 0.7995906998304049, 1.185734744226567, 1.0293533594268665, 0.9007201717246086, 0.986823904584627, 1.2967824299354889, 1.0903483373471259, 0.8112102054863878, 0.9702534579221468, 1.0935800152552522, 1.188096479508932, 0.9591050699421493, 1.0444880756903012, 0.8207130175063948, 0.9071820920203798, 0.8898718065540963, 1.0010369509311576, 0.9123362976912607, 1.0978257851192041, 0.8715852496034844, 0.8177740789183588, 1.1955743342961844, 1.1347520293708073, 0.9642314850024419, 0.7870553818809853, 0.9914349562774655, 1.0579144652902799, 0.8906521096337839, 1.149330312706423, 0.9920026286154142, 1.2605742993504316, 0.96056768948962, 1.12370799752442, 1.12878990135513, 1.0414572493646275, 0.8811637816784212, 1.1562652105183873, 1.0702463458328773, 1.1067312073937063, 1.0350915603469484, 1.0204806202615733, 1.0878666301447144, 1.0832475035210132, 1.0868873820435072, 1.0456881643209048, 1.0362768931671695, 1.1264794822448312, 1.121614126739668, 0.8492257764966139, 1.016434697747152, 1.0363882215818816, 0.8791300148456646, 1.0199310202907386, 0.9235514078372675, 1.0888085592742873, 0.8233671185806203, 0.9371124017494832, 1.0863221880329306, 0.9820283071259206, 1.0159074862088977, 1.106455226643083, 1.0718800089273421, 1.1188975952374154, 0.9306165093381912, 1.0759151788933423, nan, nan, nan, nan, nan, nan, nan, nan, nan, nan, nan, nan, nan, nan, nan, nan, nan, nan, nan, nan, nan, nan, nan, nan, nan, nan, nan, nan, nan, nan, nan, nan, nan, nan, nan, nan, nan, nan, nan, nan, nan, nan, nan, nan, nan, nan, nan, nan, nan, nan, nan, nan, nan, nan, nan, nan, nan, nan, nan, nan, nan, nan, nan, nan, nan, nan, nan, nan, nan, nan, nan, nan, nan, nan, nan, nan, nan, nan, nan, nan, nan, nan, nan, nan, nan, nan, nan, nan, nan, nan, nan, nan, nan, nan, nan, nan, nan, nan, nan, nan]\n"
     ]
    }
   ],
   "source": [
    "with h5py.File(output_fp) as f:\n",
    "    ls = list(f.get('impacts/default-tfidf-bigram/1840-1843/data'))\n",
    "    print(ls)"
   ]
  },
  {
   "cell_type": "code",
   "execution_count": null,
   "id": "5e3549ae",
   "metadata": {},
   "outputs": [],
   "source": []
  }
 ],
 "metadata": {
  "kernelspec": {
   "display_name": "Python 3 (ipykernel)",
   "language": "python",
   "name": "python3"
  },
  "language_info": {
   "codemirror_mode": {
    "name": "ipython",
    "version": 3
   },
   "file_extension": ".py",
   "mimetype": "text/x-python",
   "name": "python",
   "nbconvert_exporter": "python",
   "pygments_lexer": "ipython3",
   "version": "3.8.15"
  }
 },
 "nbformat": 4,
 "nbformat_minor": 5
}
