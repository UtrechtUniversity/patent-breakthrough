{
 "cells": [
  {
   "cell_type": "code",
   "execution_count": 1,
   "id": "ee4e9e19",
   "metadata": {},
   "outputs": [],
   "source": [
    "import logging\n",
    "logging.getLogger().setLevel(logging.ERROR)\n",
    "from pathlib import Path\n",
    "from collections import defaultdict\n",
    "\n",
    "import numpy as np\n",
    "from scipy import stats\n",
    "from tqdm import tqdm\n",
    "from matplotlib import pyplot as plt\n",
    "\n",
    "from docembedder.preprocessor.preprocessor import Preprocessor\n",
    "from docembedder.analysis import get_model_correlations, classification_benchmark\n",
    "from docembedder import BERTEmbedder, TfidfEmbedder, D2VEmbedder, BPembEmbedder"
   ]
  },
  {
   "cell_type": "code",
   "execution_count": 2,
   "id": "b96266f8",
   "metadata": {},
   "outputs": [],
   "source": [
    "data_dir = Path(\"..\", \"data\")\n",
    "unprocessed_dir = data_dir / \"unprocessed\""
   ]
  },
  {
   "cell_type": "code",
   "execution_count": 3,
   "id": "97e9eee6",
   "metadata": {},
   "outputs": [],
   "source": [
    "prep = Preprocessor(log_level=logging.ERROR)"
   ]
  },
  {
   "cell_type": "code",
   "execution_count": 13,
   "id": "14975f9a",
   "metadata": {},
   "outputs": [],
   "source": [
    "models = {\n",
    "    \"tfidf\": TfidfEmbedder(stem=False),\n",
    "#    \"tfidf-stem\": TfidfEmbedder(stem=True),\n",
    "#    \"tfidf-bigram\": TfidfEmbedder(ngram_max=2),\n",
    "#    \"tfidf-nostop\": TfidfEmbedder(stop_words=None),\n",
    "    \"tfidf-mindf2\": TfidfEmbedder(min_df=2, norm=\"l1\"),\n",
    "    \"tfidf-mindf3\": TfidfEmbedder(min_df=3, norm=\"l1\"),\n",
    "    \"tfidf-mindf4\": TfidfEmbedder(min_df=4, norm=\"l1\"),\n",
    "    \"tfidf-mindf5\": TfidfEmbedder(min_df=5, norm=\"l1\"),\n",
    "    \"tfidf-norml1\": TfidfEmbedder(norm=\"l1\"),\n",
    "#    \"tfidf-maxdf9\": TfidfEmbedder(max_df=0.9, norm=\"l1\"),\n",
    "#    \"tfidf-maxdf95\": TfidfEmbedder(max_df=0.95, norm=\"l1\"),\n",
    "#    \"tfidf-maxdf8\": TfidfEmbedder(max_df=0.8),\n",
    "#    \"tfidf-sublin\": TfidfEmbedder(sublinear_tf=True),\n",
    "    \n",
    "#    \"rfidf-norml1-mindf4\": TfidfEmbedder(min_df=4, norm=\"l1\"),\n",
    "}"
   ]
  },
  {
   "cell_type": "code",
   "execution_count": 14,
   "id": "5de3335c",
   "metadata": {
    "scrolled": true
   },
   "outputs": [
    {
     "name": "stderr",
     "output_type": "stream",
     "text": [
      "100%|████████████████████████████████████████████████████| 114/114 [3:33:29<00:00, 112.36s/it]"
     ]
    },
    {
     "name": "stdout",
     "output_type": "stream",
     "text": [
      "CPU times: user 3h 34min 27s, sys: 56.3 s, total: 3h 35min 23s\n",
      "Wall time: 3h 33min 29s\n"
     ]
    },
    {
     "name": "stderr",
     "output_type": "stream",
     "text": [
      "\n"
     ]
    }
   ],
   "source": [
    "%%time\n",
    "all_results = defaultdict(lambda: [])\n",
    "all_years = []\n",
    "n_patent_sample = 4000\n",
    "n_class_sample = 50000\n",
    "start_year, end_year = 1860, 1920\n",
    "\n",
    "for fp in tqdm(list(unprocessed_dir.glob(\"*.xz\"))):\n",
    "    year = int(fp.stem)\n",
    "    if year < start_year or year > end_year:\n",
    "        continue\n",
    "    patents, prep_stats = prep.preprocess_file(fp)\n",
    "    if year == 0 or len(patents) < 100:\n",
    "        continue\n",
    "\n",
    "    results = classification_benchmark(patents, models, n_patents=n_patent_sample,\n",
    "                                       n_class_sample=n_class_sample)\n",
    "    all_years.append(year)\n",
    "    for model_name, res in results.items():\n",
    "        all_results[model_name].append(res)"
   ]
  },
  {
   "cell_type": "code",
   "execution_count": 11,
   "id": "91cf07b2",
   "metadata": {},
   "outputs": [
    {
     "data": {
      "image/png": "[encoded data removed]",
      "text/plain": [
       "<Figure size 432x288 with 1 Axes>"
      ]
     },
     "metadata": {
      "needs_background": "light"
     },
     "output_type": "display_data"
    }
   ],
   "source": [
    "for model_name, res in all_results.items():\n",
    "    plt.scatter(all_years, res, label=model_name)\n",
    "plt.legend()\n",
    "plt.show()"
   ]
  },
  {
   "cell_type": "code",
   "execution_count": 12,
   "id": "9b9ece63",
   "metadata": {},
   "outputs": [
    {
     "data": {
      "text/plain": [
       "{'tfidf': 0.1035547741579215,\n",
       " 'tfidf-mindf2': 0.11554050694449566,\n",
       " 'tfidf-mindf3': 0.11571586653726146,\n",
       " 'tfidf-mindf4': 0.11572131256936952,\n",
       " 'tfidf-mindf5': 0.11570363415025833,\n",
       " 'tfidf-norml1': 0.11423036364035206,\n",
       " 'tfidf-maxdf9': 0.11240564204592304,\n",
       " 'tfidf-maxdf95': 0.11312234687940864,\n",
       " 'rfidf-norml1-mindf2': 0.11571586653726146}"
      ]
     },
     "execution_count": 12,
     "metadata": {},
     "output_type": "execute_result"
    }
   ],
   "source": [
    "{name: np.mean(data) for name, data in all_results.items()}"
   ]
  },
  {
   "cell_type": "code",
   "execution_count": null,
   "id": "d8aca655",
   "metadata": {},
   "outputs": [],
   "source": []
  }
 ],
 "metadata": {
  "kernelspec": {
   "display_name": "Python 3 (ipykernel)",
   "language": "python",
   "name": "python3"
  },
  "language_info": {
   "codemirror_mode": {
    "name": "ipython",
    "version": 3
   },
   "file_extension": ".py",
   "mimetype": "text/x-python",
   "name": "python",
   "nbconvert_exporter": "python",
   "pygments_lexer": "ipython3",
   "version": "3.10.4"
  }
 },
 "nbformat": 4,
 "nbformat_minor": 5
}
