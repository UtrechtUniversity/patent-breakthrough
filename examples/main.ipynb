{
 "cells": [
  {
   "cell_type": "code",
   "execution_count": 1,
   "id": "116b8df8",
   "metadata": {},
   "outputs": [],
   "source": [
    "import logging\n",
    "logging.getLogger().setLevel(logging.ERROR)\n",
    "from pathlib import Path\n",
    "from docembedder.utils import SimulationSpecification\n",
    "from docembedder.utils import run_models\n",
    "from docembedder.preprocessor import Preprocessor\n",
    "from docembedder.models import CountVecEmbedder\n",
    "from docembedder.models import TfidfEmbedder\n",
    "from docembedder.models import D2VEmbedder\n",
    "from docembedder.models import BERTEmbedder\n",
    "from docembedder import DataModel\n",
    "from docembedder.analysis import DocAnalysis\n",
    "from configparser import ConfigParser"
   ]
  },
  {
   "cell_type": "code",
   "execution_count": 2,
   "id": "90cb8841",
   "metadata": {},
   "outputs": [],
   "source": [
    "# set simulation specification\n",
    "sim_spec = SimulationSpecification(\n",
    "    year_start=1838,\n",
    "    year_end=1951,\n",
    "    window_size=21,\n",
    "    window_shift=1,\n",
    "    debug_max_patents=100,\n",
    ")"
   ]
  },
  {
   "cell_type": "code",
   "execution_count": 3,
   "id": "9dfa2e4d",
   "metadata": {},
   "outputs": [],
   "source": [
    "# read local config\n",
    "config = ConfigParser()\n",
    "_ = config.read(\"setup.ini\")\n",
    "patent_dir = Path(config[\"DATA\"][\"patent_dir\"])\n",
    "output_fp = Path(config[\"DATA\"][\"output_dir\"], \"patents.h5\")\n",
    "cpc_fp = Path(config[\"DATA\"][\"cpc_file\"])\n"
   ]
  },
  {
   "cell_type": "code",
   "execution_count": 4,
   "id": "2cc2ae52",
   "metadata": {},
   "outputs": [],
   "source": [
    "model_cv = {\n",
    "    \"countvec\": CountVecEmbedder(method='sigmoid'),\n",
    "}\n",
    "model_tfidf = {\n",
    "    \"tfidf\": TfidfEmbedder(ngram_max=1,stop_words='english',stem=True, norm='l1', sublinear_tf=True, min_df=6, max_df=0.665461),\n",
    "}\n",
    "model_dv = {\n",
    "    \"doc2vec\":D2VEmbedder(epoch=9, min_count=7, vector_size=101),\n",
    "}\n",
    "model_bert = {\n",
    "    \"bert\":BERTEmbedder(pretrained_model='AI-Growth-Lab/PatentSBERTa'),\n",
    "}"
   ]
  },
  {
   "cell_type": "code",
   "execution_count": 5,
   "id": "0a303440",
   "metadata": {},
   "outputs": [],
   "source": [
    "preprocessor_cv = {\n",
    "    \"prep-countvec\": Preprocessor(keep_caps=False, keep_start_section=False, remove_non_alpha=True),\n",
    "}\n",
    "preprocessor_tfidf = {\n",
    "    \"prep-tfidf\": Preprocessor(keep_caps=True, keep_start_section=True, remove_non_alpha=True),\n",
    "   }\n",
    "preprocessor_dv = {\n",
    "    \"prep-doc2vec\": Preprocessor(keep_caps=False, keep_start_section=True, remove_non_alpha=False),\n",
    "}\n",
    "preprocessor_bert = {\n",
    "     \"prep-bert\": Preprocessor(keep_caps=True, keep_start_section=True, remove_non_alpha=True),\n",
    "}"
   ]
  },
  {
   "cell_type": "code",
   "execution_count": null,
   "id": "76eb3433",
   "metadata": {},
   "outputs": [
    {
     "name": "stderr",
     "output_type": "stream",
     "text": [
      "\r",
      "  0%|                                                                       | 0/93 [00:00<?, ?it/s]"
     ]
    },
    {
     "name": "stdout",
     "output_type": "stream",
     "text": [
      "Transform Model\n"
     ]
    },
    {
     "name": "stderr",
     "output_type": "stream",
     "text": [
      "\r",
      "  1%|▋                                                            | 1/93 [00:46<1:10:40, 46.09s/it]"
     ]
    },
    {
     "name": "stdout",
     "output_type": "stream",
     "text": [
      "Transform Model\n"
     ]
    }
   ],
   "source": [
    "%%time\n",
    "# Calculate embeddings\n",
    "run_models(preprocessor_cv, model_cv, sim_spec, patent_dir, output_fp, cpc_fp, n_jobs=8)\n",
    "run_models(preprocessor_tfidf, model_tfidf, sim_spec, patent_dir, output_fp, cpc_fp, n_jobs=8)\n",
    "run_models(preprocessor_dv, model_dv, sim_spec, patent_dir, output_fp, cpc_fp, n_jobs=8)\n",
    "run_models(preprocessor_bert, model_bert, sim_spec, patent_dir, output_fp, cpc_fp, n_jobs=1)\n"
   ]
  },
  {
   "cell_type": "code",
   "execution_count": null,
   "id": "68db2305",
   "metadata": {},
   "outputs": [],
   "source": [
    "%%time\n",
    "# Calculate impacts and novelties\n",
    "with DataModel(output_fp, read_only=False) as data:\n",
    "    analysis = DocAnalysis(data)\n",
    "    for window, model in data.iterate_window_models():\n",
    "        impact = analysis.patent_impacts(window, model)\n",
    "        novelty = analysis.patent_novelties(window, model)"
   ]
  }
 ],
 "metadata": {
  "kernelspec": {
   "display_name": "Python 3 (ipykernel)",
   "language": "python",
   "name": "python3"
  },
  "language_info": {
   "codemirror_mode": {
    "name": "ipython",
    "version": 3
   },
   "file_extension": ".py",
   "mimetype": "text/x-python",
   "name": "python",
   "nbconvert_exporter": "python",
   "pygments_lexer": "ipython3",
   "version": "3.10.4"
  }
 },
 "nbformat": 4,
 "nbformat_minor": 5
}
