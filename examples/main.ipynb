{
 "cells": [
  {
   "cell_type": "code",
   "execution_count": 1,
   "id": "116b8df8",
   "metadata": {},
   "outputs": [],
   "source": [
    "import logging\n",
    "logging.getLogger().setLevel(logging.ERROR)\n",
    "from pathlib import Path\n",
    "from docembedder.utils import SimulationSpecification\n",
    "from docembedder.utils import run_models\n",
    "from docembedder.models import CountVecEmbedder\n",
    "from docembedder.models import TfidfEmbedder\n",
    "from docembedder.models import D2VEmbedder\n",
    "from docembedder.models import BERTEmbedder\n",
    "from docembedder import DataModel\n",
    "from docembedder.analysis import DocAnalysis\n",
    "from configparser import ConfigParser"
   ]
  },
  {
   "cell_type": "code",
   "execution_count": 2,
   "id": "3cf62242",
   "metadata": {},
   "outputs": [],
   "source": [
    "# set simulation specification\n",
    "sim_spec = SimulationSpecification(\n",
    "    year_start=1838,\n",
    "    year_end=1850,\n",
    "    window_size=21,\n",
    "    window_shift=1,\n",
    ")"
   ]
  },
  {
   "cell_type": "code",
   "execution_count": 3,
   "id": "fdf505d3",
   "metadata": {},
   "outputs": [],
   "source": [
    "# read local config\n",
    "config = ConfigParser()\n",
    "_ = config.read(\"setup.ini\")\n",
    "patent_dir = Path(config[\"DATA\"][\"patent_dir\"])\n",
    "output_fp = Path(config[\"DATA\"][\"output_dir\"], \"patents.h5\")\n",
    "cpc_fp = Path(config[\"DATA\"][\"cpc_file\"])\n"
   ]
  },
  {
   "cell_type": "markdown",
   "id": "a56854f8",
   "metadata": {},
   "source": [
    "### Calculate embeddings\n",
    "Embeddings are calculated using three different methods:\n",
    "- CountVec\n",
    "- Tfidf\n",
    "- Doc2vec\n",
    "- BERT\n",
    "\n",
    "Input parameters for each model is selected after hyperparameter optimization"
   ]
  },
  {
   "cell_type": "code",
   "execution_count": 4,
   "id": "64f0d041",
   "metadata": {},
   "outputs": [],
   "source": [
    "models = {\n",
    "    \"countvec\": CountVecEmbedder(method='sigmoid'),\n",
    "    \"tfidf\": TfidfEmbedder(ngram_max=1,stop_words='english',stem=True, norm='l1', sublinear_tf=True, min_df=6, max_df=0.665461),\n",
    "    \"doc2vec\":D2VEmbedder(epoch=9, min_count=7, vector_size=101),\n",
    "    \"BERT\":BERTEmbedder(pretrained_model='AI-Growth-Lab/PatentSBERTa'),\n",
    "}"
   ]
  },
  {
   "cell_type": "code",
   "execution_count": 8,
   "id": "76eb3433",
   "metadata": {},
   "outputs": [],
   "source": [
    "%%time\n",
    "run_models(None, models, sim_spec, patent_dir, output_fp, cpc_fp)"
   ]
  },
  {
   "cell_type": "code",
   "execution_count": 9,
   "id": "68db2305",
   "metadata": {},
   "outputs": [],
   "source": [
    "# Calculate impacts and novelties\n",
    "%%time\n",
    "with DataModel(output_fp, read_only=False) as data:\n",
    "    analysis = DocAnalysis(data)\n",
    "    for window, model in data.iterate_window_models():\n",
    "        impact = analysis.patent_impacts(window, model)\n",
    "        novelty = analysis.patent_novelties(window, model)"
   ]
  }
 ],
 "metadata": {
  "kernelspec": {
   "display_name": "Python 3 (ipykernel)",
   "language": "python",
   "name": "python3"
  },
  "language_info": {
   "codemirror_mode": {
    "name": "ipython",
    "version": 3
   },
   "file_extension": ".py",
   "mimetype": "text/x-python",
   "name": "python",
   "nbconvert_exporter": "python",
   "pygments_lexer": "ipython3",
   "version": "3.8.15"
  }
 },
 "nbformat": 4,
 "nbformat_minor": 5
}
