{
 "cells": [
  {
   "cell_type": "code",
   "execution_count": 1,
   "id": "116b8df8",
   "metadata": {},
   "outputs": [],
   "source": [
    "import logging\n",
    "logging.getLogger().setLevel(logging.ERROR)\n",
    "from pathlib import Path\n",
    "from docembedder.utils import SimulationSpecification\n",
    "from docembedder.utils import run_models\n",
    "from docembedder.preprocessor import Preprocessor\n",
    "from docembedder.models import CountVecEmbedder\n",
    "from docembedder.models import TfidfEmbedder\n",
    "from docembedder.models import D2VEmbedder\n",
    "from docembedder.models import BERTEmbedder\n",
    "from docembedder import DataModel\n",
    "from docembedder.analysis import DocAnalysis\n",
    "from configparser import ConfigParser"
   ]
  },
  {
   "cell_type": "code",
   "execution_count": 2,
   "id": "39ef8050",
   "metadata": {},
   "outputs": [],
   "source": [
    "# set simulation specification\n",
    "sim_spec = SimulationSpecification(\n",
    "    year_start=1838,\n",
    "    year_end=1850,\n",
    "    window_size=21,\n",
    "    window_shift=1,\n",
    ")"
   ]
  },
  {
   "cell_type": "code",
   "execution_count": 3,
   "id": "8e55693f",
   "metadata": {},
   "outputs": [],
   "source": [
    "# read local config\n",
    "config = ConfigParser()\n",
    "_ = config.read(\"setup.ini\")\n",
    "patent_dir = Path(config[\"DATA\"][\"patent_dir\"])\n",
    "output_fp = Path(config[\"DATA\"][\"output_dir\"], \"patents.h5\")\n",
    "cpc_fp = Path(config[\"DATA\"][\"cpc_file\"])\n"
   ]
  },
  {
   "cell_type": "code",
   "execution_count": 4,
   "id": "ff12dcb8",
   "metadata": {},
   "outputs": [],
   "source": [
    "model_cv = {\n",
    "    \"countvec\": CountVecEmbedder(method='sigmoid'),\n",
    "}\n",
    "model_tfidf = {\n",
    "    \"tfidf\": TfidfEmbedder(ngram_max=1,stop_words='english',stem=True, norm='l1', sublinear_tf=True, min_df=6, max_df=0.665461),\n",
    "}\n",
    "model_dv = {\n",
    "    \"doc2vec\":D2VEmbedder(epoch=9, min_count=7, vector_size=101),\n",
    "}\n",
    "model_bert = {\n",
    "    \"BERT\":BERTEmbedder(pretrained_model='AI-Growth-Lab/PatentSBERTa'),\n",
    "}"
   ]
  },
  {
   "cell_type": "code",
   "execution_count": 5,
   "id": "c025ed49",
   "metadata": {},
   "outputs": [],
   "source": [
    "preprocessor_cv = {\n",
    "    \"CV\": Preprocessor(keep_caps=False, keep_start_section=False, remove_non_alpha=True),\n",
    "}\n",
    "preprocessor_tfidf = {\n",
    "    \"TFIDF\": Preprocessor(keep_caps=True, keep_start_section=True, remove_non_alpha=True),\n",
    "   }\n",
    "preprocessor_dv = {\n",
    "    \"DV\": Preprocessor(keep_caps=False, keep_start_section=True, remove_non_alpha=False),\n",
    "}\n",
    "preprocessor_bert = {\n",
    "     \"BERT\": Preprocessor(keep_caps=True, keep_start_section=True, remove_non_alpha=True),\n",
    "}"
   ]
  },
  {
   "cell_type": "code",
   "execution_count": 9,
   "id": "76eb3433",
   "metadata": {},
   "outputs": [],
   "source": [
    "%%time\n",
    "# Calculate embeddings\n",
    "run_models(preprocessor_cv, model_cv, sim_spec, patent_dir, output_fp, cpc_fp)\n",
    "run_models(preprocessor_tfidf, model_tfidf, sim_spec, patent_dir, output_fp, cpc_fp)\n",
    "run_models(preprocessor_dv, model_dv, sim_spec, patent_dir, output_fp, cpc_fp)\n",
    "run_models(preprocessor_bert, model_bert, sim_spec, patent_dir, output_fp, cpc_fp)\n"
   ]
  },
  {
   "cell_type": "code",
   "execution_count": 8,
   "id": "68db2305",
   "metadata": {},
   "outputs": [],
   "source": [
    "%%time\n",
    "# Calculate impacts and novelties\n",
    "with DataModel(output_fp, read_only=False) as data:\n",
    "    analysis = DocAnalysis(data)\n",
    "    for window, model in data.iterate_window_models():\n",
    "        impact = analysis.patent_impacts(window, model)\n",
    "        novelty = analysis.patent_novelties(window, model)"
   ]
  }
 ],
 "metadata": {
  "kernelspec": {
   "display_name": "Python 3 (ipykernel)",
   "language": "python",
   "name": "python3"
  },
  "language_info": {
   "codemirror_mode": {
    "name": "ipython",
    "version": 3
   },
   "file_extension": ".py",
   "mimetype": "text/x-python",
   "name": "python",
   "nbconvert_exporter": "python",
   "pygments_lexer": "ipython3",
   "version": "3.8.15"
  }
 },
 "nbformat": 4,
 "nbformat_minor": 5
}
