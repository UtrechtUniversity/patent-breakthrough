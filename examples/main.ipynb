{
 "cells": [
  {
   "cell_type": "code",
   "execution_count": 10,
   "id": "116b8df8",
   "metadata": {},
   "outputs": [],
   "source": [
    "import logging\n",
    "logging.getLogger().setLevel(logging.ERROR)\n",
    "from pathlib import Path\n",
    "from docembedder.utils import SimulationSpecification\n",
    "from docembedder.utils import run_models\n",
    "from docembedder.preprocessor import Preprocessor\n",
    "from docembedder.models import CountVecEmbedder\n",
    "from docembedder.models import TfidfEmbedder\n",
    "from docembedder.models import D2VEmbedder\n",
    "from docembedder.models import BERTEmbedder\n",
    "from docembedder import DataModel\n",
    "from docembedder.analysis import DocAnalysis\n",
    "from configparser import ConfigParser"
   ]
  },
  {
   "cell_type": "code",
   "execution_count": 11,
   "id": "e1ec7aab",
   "metadata": {},
   "outputs": [],
   "source": [
    "# set simulation specification\n",
    "sim_spec = SimulationSpecification(\n",
    "    year_start=1838,\n",
    "    year_end=1850,\n",
    "    window_size=21,\n",
    "    window_shift=1,\n",
    ")"
   ]
  },
  {
   "cell_type": "code",
   "execution_count": 12,
   "id": "d7044f10",
   "metadata": {},
   "outputs": [
    {
     "ename": "KeyError",
     "evalue": "'DATA'",
     "output_type": "error",
     "traceback": [
      "\u001b[0;31m---------------------------------------------------------------------------\u001b[0m",
      "\u001b[0;31mKeyError\u001b[0m                                  Traceback (most recent call last)",
      "Cell \u001b[0;32mIn[12], line 4\u001b[0m\n\u001b[1;32m      2\u001b[0m config \u001b[38;5;241m=\u001b[39m ConfigParser()\n\u001b[1;32m      3\u001b[0m _ \u001b[38;5;241m=\u001b[39m config\u001b[38;5;241m.\u001b[39mread(\u001b[38;5;124m\"\u001b[39m\u001b[38;5;124msetup.ini\u001b[39m\u001b[38;5;124m\"\u001b[39m)\n\u001b[0;32m----> 4\u001b[0m patent_dir \u001b[38;5;241m=\u001b[39m Path(\u001b[43mconfig\u001b[49m\u001b[43m[\u001b[49m\u001b[38;5;124;43m\"\u001b[39;49m\u001b[38;5;124;43mDATA\u001b[39;49m\u001b[38;5;124;43m\"\u001b[39;49m\u001b[43m]\u001b[49m[\u001b[38;5;124m\"\u001b[39m\u001b[38;5;124mpatent_dir\u001b[39m\u001b[38;5;124m\"\u001b[39m])\n\u001b[1;32m      5\u001b[0m output_fp \u001b[38;5;241m=\u001b[39m Path(config[\u001b[38;5;124m\"\u001b[39m\u001b[38;5;124mDATA\u001b[39m\u001b[38;5;124m\"\u001b[39m][\u001b[38;5;124m\"\u001b[39m\u001b[38;5;124moutput_dir\u001b[39m\u001b[38;5;124m\"\u001b[39m], \u001b[38;5;124m\"\u001b[39m\u001b[38;5;124mpatents.h5\u001b[39m\u001b[38;5;124m\"\u001b[39m)\n\u001b[1;32m      6\u001b[0m cpc_fp \u001b[38;5;241m=\u001b[39m Path(config[\u001b[38;5;124m\"\u001b[39m\u001b[38;5;124mDATA\u001b[39m\u001b[38;5;124m\"\u001b[39m][\u001b[38;5;124m\"\u001b[39m\u001b[38;5;124mcpc_file\u001b[39m\u001b[38;5;124m\"\u001b[39m])\n",
      "File \u001b[0;32m~/surfdrive/its/patent-breakthrough/env/lib/python3.8/configparser.py:960\u001b[0m, in \u001b[0;36mRawConfigParser.__getitem__\u001b[0;34m(self, key)\u001b[0m\n\u001b[1;32m    958\u001b[0m \u001b[38;5;28;01mdef\u001b[39;00m \u001b[38;5;21m__getitem__\u001b[39m(\u001b[38;5;28mself\u001b[39m, key):\n\u001b[1;32m    959\u001b[0m     \u001b[38;5;28;01mif\u001b[39;00m key \u001b[38;5;241m!=\u001b[39m \u001b[38;5;28mself\u001b[39m\u001b[38;5;241m.\u001b[39mdefault_section \u001b[38;5;129;01mand\u001b[39;00m \u001b[38;5;129;01mnot\u001b[39;00m \u001b[38;5;28mself\u001b[39m\u001b[38;5;241m.\u001b[39mhas_section(key):\n\u001b[0;32m--> 960\u001b[0m         \u001b[38;5;28;01mraise\u001b[39;00m \u001b[38;5;167;01mKeyError\u001b[39;00m(key)\n\u001b[1;32m    961\u001b[0m     \u001b[38;5;28;01mreturn\u001b[39;00m \u001b[38;5;28mself\u001b[39m\u001b[38;5;241m.\u001b[39m_proxies[key]\n",
      "\u001b[0;31mKeyError\u001b[0m: 'DATA'"
     ]
    }
   ],
   "source": [
    "# read local config\n",
    "config = ConfigParser()\n",
    "_ = config.read(\"setup.ini\")\n",
    "patent_dir = Path(config[\"DATA\"][\"patent_dir\"])\n",
    "output_fp = Path(config[\"DATA\"][\"output_dir\"], \"patents.h5\")\n",
    "cpc_fp = Path(config[\"DATA\"][\"cpc_file\"])\n"
   ]
  },
  {
   "cell_type": "code",
   "execution_count": 4,
   "id": "0330d79c",
   "metadata": {},
   "outputs": [],
   "source": [
    "model_cv = {\n",
    "    \"countvec\": CountVecEmbedder(method='sigmoid'),\n",
    "}\n",
    "model_tfidf = {\n",
    "    \"tfidf\": TfidfEmbedder(ngram_max=1,stop_words='english',stem=True, norm='l1', sublinear_tf=True, min_df=6, max_df=0.665461),\n",
    "}\n",
    "model_dv = {\n",
    "    \"doc2vec\":D2VEmbedder(epoch=9, min_count=7, vector_size=101),\n",
    "}\n",
    "model_bert = {\n",
    "    \"bert\":BERTEmbedder(pretrained_model='AI-Growth-Lab/PatentSBERTa'),\n",
    "}"
   ]
  },
  {
   "cell_type": "code",
   "execution_count": 5,
   "id": "d95c93ca",
   "metadata": {},
   "outputs": [],
   "source": [
    "preprocessor_cv = {\n",
    "    \"prep-countvec\": Preprocessor(keep_caps=False, keep_start_section=False, remove_non_alpha=True),\n",
    "}\n",
    "preprocessor_tfidf = {\n",
    "    \"prep-tfidf\": Preprocessor(keep_caps=True, keep_start_section=True, remove_non_alpha=True),\n",
    "   }\n",
    "preprocessor_dv = {\n",
    "    \"prep-doc2vec\": Preprocessor(keep_caps=False, keep_start_section=True, remove_non_alpha=False),\n",
    "}\n",
    "preprocessor_bert = {\n",
    "     \"prep-bert\": Preprocessor(keep_caps=True, keep_start_section=True, remove_non_alpha=True),\n",
    "}"
   ]
  },
  {
   "cell_type": "code",
   "execution_count": 9,
   "id": "76eb3433",
   "metadata": {},
   "outputs": [],
   "source": [
    "%%time\n",
    "# Calculate embeddings\n",
    "run_models(preprocessor_cv, model_cv, sim_spec, patent_dir, output_fp, cpc_fp)\n",
    "run_models(preprocessor_tfidf, model_tfidf, sim_spec, patent_dir, output_fp, cpc_fp)\n",
    "run_models(preprocessor_dv, model_dv, sim_spec, patent_dir, output_fp, cpc_fp)\n",
    "run_models(preprocessor_bert, model_bert, sim_spec, patent_dir, output_fp, cpc_fp)\n"
   ]
  },
  {
   "cell_type": "code",
   "execution_count": 8,
   "id": "68db2305",
   "metadata": {},
   "outputs": [],
   "source": [
    "%%time\n",
    "# Calculate impacts and novelties\n",
    "with DataModel(output_fp, read_only=False) as data:\n",
    "    analysis = DocAnalysis(data)\n",
    "    for window, model in data.iterate_window_models():\n",
    "        impact = analysis.patent_impacts(window, model)\n",
    "        novelty = analysis.patent_novelties(window, model)"
   ]
  }
 ],
 "metadata": {
  "kernelspec": {
   "display_name": "Python 3 (ipykernel)",
   "language": "python",
   "name": "python3"
  },
  "language_info": {
   "codemirror_mode": {
    "name": "ipython",
    "version": 3
   },
   "file_extension": ".py",
   "mimetype": "text/x-python",
   "name": "python",
   "nbconvert_exporter": "python",
   "pygments_lexer": "ipython3",
   "version": "3.8.15"
  }
 },
 "nbformat": 4,
 "nbformat_minor": 5
}
