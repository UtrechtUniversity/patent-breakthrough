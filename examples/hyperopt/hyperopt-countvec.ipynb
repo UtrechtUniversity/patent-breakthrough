{
 "cells": [
  {
   "cell_type": "code",
   "execution_count": 1,
   "id": "393406a8",
   "metadata": {},
   "outputs": [],
   "source": [
    "from pathlib import Path\n",
    "from pprint import pprint\n",
    "from docembedder.hyperopt.utils import ModelHyperopt\n",
    "from docembedder.models import CountVecEmbedder\n",
    "from docembedder.utils import SimulationSpecification\n",
    "from docembedder.preprocessor import Preprocessor\n",
    "from docembedder.preprocessor.oldprep import OldPreprocessor\n",
    "from configparser import ConfigParser"
   ]
  },
  {
   "cell_type": "code",
   "execution_count": 2,
   "id": "8a444e8e",
   "metadata": {},
   "outputs": [],
   "source": [
    "sim_spec = SimulationSpecification(\n",
    "    year_start=1838,\n",
    "    year_end=1950,\n",
    "    window_size=25,\n",
    "    debug_max_patents=200,\n",
    ")\n",
    "config = ConfigParser()\n",
    "_ = config.read(\"setup.ini\")\n",
    "hyper_fp = Path(config[\"DATA\"][\"hyper_dir\"], \"count_trials.pkl\")"
   ]
  },
  {
   "cell_type": "code",
   "execution_count": 3,
   "id": "7b62e901",
   "metadata": {},
   "outputs": [],
   "source": [
    "# set general parameters\n",
    "hype = ModelHyperopt(\n",
    "    sim_spec=sim_spec,\n",
    "    cpc_fp=Path(config[\"DATA\"][\"cpc_file\"]),\n",
    "    patent_dir=Path(config[\"DATA\"][\"patent_dir\"]),\n",
    "    trials=hyper_fp\n",
    ")"
   ]
  },
  {
   "cell_type": "code",
   "execution_count": 4,
   "id": "e4578325",
   "metadata": {},
   "outputs": [],
   "source": [
    "hype.optimize(label=\"count\", model=CountVecEmbedder, max_evals=2, n_jobs=10)"
   ]
  },
  {
   "cell_type": "code",
   "execution_count": 5,
   "id": "87a9e019",
   "metadata": {},
   "outputs": [
    {
     "data": {
      "text/html": [
       "<div>\n",
       "<style scoped>\n",
       "    .dataframe tbody tr th:only-of-type {\n",
       "        vertical-align: middle;\n",
       "    }\n",
       "\n",
       "    .dataframe tbody tr th {\n",
       "        vertical-align: top;\n",
       "    }\n",
       "\n",
       "    .dataframe thead th {\n",
       "        text-align: right;\n",
       "    }\n",
       "</style>\n",
       "<table border=\"1\" class=\"dataframe\">\n",
       "  <thead>\n",
       "    <tr style=\"text-align: right;\">\n",
       "      <th></th>\n",
       "      <th>method</th>\n",
       "      <th>loss</th>\n",
       "    </tr>\n",
       "  </thead>\n",
       "  <tbody>\n",
       "    <tr>\n",
       "      <th>1</th>\n",
       "      <td>prop</td>\n",
       "      <td>-0.078011</td>\n",
       "    </tr>\n",
       "    <tr>\n",
       "      <th>0</th>\n",
       "      <td>sigmoid</td>\n",
       "      <td>-0.046946</td>\n",
       "    </tr>\n",
       "  </tbody>\n",
       "</table>\n",
       "</div>"
      ],
      "text/plain": [
       "    method      loss\n",
       "1     prop -0.078011\n",
       "0  sigmoid -0.046946"
      ]
     },
     "execution_count": 5,
     "metadata": {},
     "output_type": "execute_result"
    }
   ],
   "source": [
    "best_model = hype.best_model(\"count\", CountVecEmbedder)\n",
    "hype.dataframe(\"count\", CountVecEmbedder)"
   ]
  },
  {
   "cell_type": "code",
   "execution_count": 6,
   "id": "ffeb9cb9",
   "metadata": {},
   "outputs": [],
   "source": [
    "from docembedder.hyperopt.utils import PreprocessorHyperopt\n",
    "hyper_prep_fp = Path(config[\"DATA\"][\"hyper_dir\"], \"prep_count.pkl\")\n",
    "\n",
    "hype_prep = PreprocessorHyperopt(\n",
    "    sim_spec=sim_spec,\n",
    "    cpc_fp = Path(config[\"DATA\"][\"cpc_file\"]),\n",
    "    patent_dir = Path(config[\"DATA\"][\"patent_dir\"]),\n",
    "    trials = hyper_prep_fp\n",
    ")"
   ]
  },
  {
   "cell_type": "code",
   "execution_count": 7,
   "id": "e5ce579e",
   "metadata": {},
   "outputs": [
    {
     "name": "stderr",
     "output_type": "stream",
     "text": [
      "100%|███████████████████████████████████████████| 8/8 [00:00<00:00, 196224.75it/s]\n"
     ]
    }
   ],
   "source": [
    "hype_prep.optimize(\"normal\", best_model, Preprocessor, n_jobs=8)"
   ]
  },
  {
   "cell_type": "code",
   "execution_count": 8,
   "id": "fd623636",
   "metadata": {},
   "outputs": [
    {
     "data": {
      "text/html": [
       "<div>\n",
       "<style scoped>\n",
       "    .dataframe tbody tr th:only-of-type {\n",
       "        vertical-align: middle;\n",
       "    }\n",
       "\n",
       "    .dataframe tbody tr th {\n",
       "        vertical-align: top;\n",
       "    }\n",
       "\n",
       "    .dataframe thead th {\n",
       "        text-align: right;\n",
       "    }\n",
       "</style>\n",
       "<table border=\"1\" class=\"dataframe\">\n",
       "  <thead>\n",
       "    <tr style=\"text-align: right;\">\n",
       "      <th></th>\n",
       "      <th>keep_caps</th>\n",
       "      <th>keep_start_section</th>\n",
       "      <th>remove_non_alpha</th>\n",
       "      <th>loss</th>\n",
       "    </tr>\n",
       "  </thead>\n",
       "  <tbody>\n",
       "    <tr>\n",
       "      <th>6</th>\n",
       "      <td>False</td>\n",
       "      <td>False</td>\n",
       "      <td>True</td>\n",
       "      <td>-0.081200</td>\n",
       "    </tr>\n",
       "    <tr>\n",
       "      <th>4</th>\n",
       "      <td>False</td>\n",
       "      <td>True</td>\n",
       "      <td>True</td>\n",
       "      <td>-0.079518</td>\n",
       "    </tr>\n",
       "    <tr>\n",
       "      <th>2</th>\n",
       "      <td>True</td>\n",
       "      <td>False</td>\n",
       "      <td>True</td>\n",
       "      <td>-0.078920</td>\n",
       "    </tr>\n",
       "    <tr>\n",
       "      <th>0</th>\n",
       "      <td>True</td>\n",
       "      <td>True</td>\n",
       "      <td>True</td>\n",
       "      <td>-0.078146</td>\n",
       "    </tr>\n",
       "    <tr>\n",
       "      <th>5</th>\n",
       "      <td>False</td>\n",
       "      <td>True</td>\n",
       "      <td>False</td>\n",
       "      <td>-0.078138</td>\n",
       "    </tr>\n",
       "    <tr>\n",
       "      <th>7</th>\n",
       "      <td>False</td>\n",
       "      <td>False</td>\n",
       "      <td>False</td>\n",
       "      <td>-0.078011</td>\n",
       "    </tr>\n",
       "    <tr>\n",
       "      <th>1</th>\n",
       "      <td>True</td>\n",
       "      <td>True</td>\n",
       "      <td>False</td>\n",
       "      <td>-0.077095</td>\n",
       "    </tr>\n",
       "    <tr>\n",
       "      <th>3</th>\n",
       "      <td>True</td>\n",
       "      <td>False</td>\n",
       "      <td>False</td>\n",
       "      <td>-0.076738</td>\n",
       "    </tr>\n",
       "  </tbody>\n",
       "</table>\n",
       "</div>"
      ],
      "text/plain": [
       "   keep_caps  keep_start_section  remove_non_alpha      loss\n",
       "6      False               False              True -0.081200\n",
       "4      False                True              True -0.079518\n",
       "2       True               False              True -0.078920\n",
       "0       True                True              True -0.078146\n",
       "5      False                True             False -0.078138\n",
       "7      False               False             False -0.078011\n",
       "1       True                True             False -0.077095\n",
       "3       True               False             False -0.076738"
      ]
     },
     "execution_count": 8,
     "metadata": {},
     "output_type": "execute_result"
    }
   ],
   "source": [
    "hype_prep.dataframe(\"normal\")"
   ]
  },
  {
   "cell_type": "code",
   "execution_count": 9,
   "id": "9cb9b5e2",
   "metadata": {},
   "outputs": [
    {
     "name": "stderr",
     "output_type": "stream",
     "text": [
      "100%|████████████████████████████████████████████| 1/1 [00:00<00:00, 30840.47it/s]\n"
     ]
    }
   ],
   "source": [
    "hype_prep.optimize(\"old\", best_model, OldPreprocessor, n_jobs=8)"
   ]
  },
  {
   "cell_type": "code",
   "execution_count": 10,
   "id": "a7dc0509",
   "metadata": {},
   "outputs": [
    {
     "data": {
      "text/html": [
       "<div>\n",
       "<style scoped>\n",
       "    .dataframe tbody tr th:only-of-type {\n",
       "        vertical-align: middle;\n",
       "    }\n",
       "\n",
       "    .dataframe tbody tr th {\n",
       "        vertical-align: top;\n",
       "    }\n",
       "\n",
       "    .dataframe thead th {\n",
       "        text-align: right;\n",
       "    }\n",
       "</style>\n",
       "<table border=\"1\" class=\"dataframe\">\n",
       "  <thead>\n",
       "    <tr style=\"text-align: right;\">\n",
       "      <th></th>\n",
       "      <th>loss</th>\n",
       "    </tr>\n",
       "  </thead>\n",
       "  <tbody>\n",
       "    <tr>\n",
       "      <th>0</th>\n",
       "      <td>-0.07692</td>\n",
       "    </tr>\n",
       "  </tbody>\n",
       "</table>\n",
       "</div>"
      ],
      "text/plain": [
       "      loss\n",
       "0 -0.07692"
      ]
     },
     "execution_count": 10,
     "metadata": {},
     "output_type": "execute_result"
    }
   ],
   "source": [
    "hype_prep.dataframe(\"old\")"
   ]
  },
  {
   "cell_type": "code",
   "execution_count": 11,
   "id": "969050e4",
   "metadata": {},
   "outputs": [],
   "source": [
    "hyper_fp_2 = Path(config[\"DATA\"][\"hyper_dir\"], \"count_trials_2.pkl\")\n",
    "\n",
    "hype_2 = ModelHyperopt(\n",
    "    sim_spec=sim_spec,\n",
    "    cpc_fp=Path(config[\"DATA\"][\"cpc_file\"]),\n",
    "    patent_dir=Path(config[\"DATA\"][\"patent_dir\"]),\n",
    "    preprocessor=OldPreprocessor(),\n",
    "    trials=hyper_fp_2,\n",
    ")"
   ]
  },
  {
   "cell_type": "code",
   "execution_count": 12,
   "id": "62500d04",
   "metadata": {},
   "outputs": [],
   "source": [
    "hype_2.optimize(label=\"count-old\", model=CountVecEmbedder, max_evals=2, n_jobs=9)"
   ]
  },
  {
   "cell_type": "code",
   "execution_count": 13,
   "id": "e2b7b6a8",
   "metadata": {},
   "outputs": [
    {
     "data": {
      "text/html": [
       "<div>\n",
       "<style scoped>\n",
       "    .dataframe tbody tr th:only-of-type {\n",
       "        vertical-align: middle;\n",
       "    }\n",
       "\n",
       "    .dataframe tbody tr th {\n",
       "        vertical-align: top;\n",
       "    }\n",
       "\n",
       "    .dataframe thead th {\n",
       "        text-align: right;\n",
       "    }\n",
       "</style>\n",
       "<table border=\"1\" class=\"dataframe\">\n",
       "  <thead>\n",
       "    <tr style=\"text-align: right;\">\n",
       "      <th></th>\n",
       "      <th>method</th>\n",
       "      <th>loss</th>\n",
       "    </tr>\n",
       "  </thead>\n",
       "  <tbody>\n",
       "    <tr>\n",
       "      <th>1</th>\n",
       "      <td>sigmoid</td>\n",
       "      <td>-0.126032</td>\n",
       "    </tr>\n",
       "    <tr>\n",
       "      <th>0</th>\n",
       "      <td>prop</td>\n",
       "      <td>-0.076920</td>\n",
       "    </tr>\n",
       "  </tbody>\n",
       "</table>\n",
       "</div>"
      ],
      "text/plain": [
       "    method      loss\n",
       "1  sigmoid -0.126032\n",
       "0     prop -0.076920"
      ]
     },
     "execution_count": 13,
     "metadata": {},
     "output_type": "execute_result"
    }
   ],
   "source": [
    "hype_2.dataframe(\"count-old\", CountVecEmbedder).head(10)"
   ]
  },
  {
   "cell_type": "code",
   "execution_count": null,
   "id": "10b88104",
   "metadata": {},
   "outputs": [],
   "source": []
  }
 ],
 "metadata": {
  "kernelspec": {
   "display_name": "Python 3 (ipykernel)",
   "language": "python",
   "name": "python3"
  },
  "language_info": {
   "codemirror_mode": {
    "name": "ipython",
    "version": 3
   },
   "file_extension": ".py",
   "mimetype": "text/x-python",
   "name": "python",
   "nbconvert_exporter": "python",
   "pygments_lexer": "ipython3",
   "version": "3.9.16"
  },
  "vscode": {
   "interpreter": {
    "hash": "47b9ebd42006c1dc8745b014f20b2c57d8cdc5dec3fe9a4daee3641bdc326575"
   }
  }
 },
 "nbformat": 4,
 "nbformat_minor": 5
}
