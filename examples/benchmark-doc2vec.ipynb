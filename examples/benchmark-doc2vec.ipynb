{
 "cells": [
  {
   "cell_type": "code",
   "execution_count": 1,
   "id": "c798361e",
   "metadata": {
    "execution": {
     "iopub.execute_input": "2022-12-20T15:00:18.074778Z",
     "iopub.status.busy": "2022-12-20T15:00:18.074492Z",
     "iopub.status.idle": "2022-12-20T15:00:19.719772Z",
     "shell.execute_reply": "2022-12-20T15:00:19.719097Z"
    }
   },
   "outputs": [
    {
     "name": "stderr",
     "output_type": "stream",
     "text": [
      "/home/snadi/.local/lib/python3.8/site-packages/tqdm/auto.py:22: TqdmWarning: IProgress not found. Please update jupyter and ipywidgets. See https://ipywidgets.readthedocs.io/en/stable/user_install.html\n",
      "  from .autonotebook import tqdm as notebook_tqdm\n"
     ]
    }
   ],
   "source": [
    "import logging\n",
    "logging.getLogger().setLevel(logging.ERROR)\n",
    "from pathlib import Path\n",
    "from collections import defaultdict\n",
    "\n",
    "import numpy as np\n",
    "from scipy import stats\n",
    "from tqdm import tqdm\n",
    "from matplotlib import pyplot as plt\n",
    "\n",
    "from docembedder.preprocessor.preprocessor import Preprocessor\n",
    "from docembedder.analysis import get_model_correlations, classification_benchmark\n",
    "from docembedder import BERTEmbedder, TfidfEmbedder, D2VEmbedder, BPembEmbedder"
   ]
  },
  {
   "cell_type": "code",
   "execution_count": 2,
   "id": "5595f070",
   "metadata": {
    "execution": {
     "iopub.execute_input": "2022-12-20T15:00:19.722501Z",
     "iopub.status.busy": "2022-12-20T15:00:19.722063Z",
     "iopub.status.idle": "2022-12-20T15:00:19.726612Z",
     "shell.execute_reply": "2022-12-20T15:00:19.726209Z"
    }
   },
   "outputs": [],
   "source": [
    "data_dir = Path(\"..\", \"data\")\n",
    "unprocessed_dir = data_dir / \"unprocessed\""
   ]
  },
  {
   "cell_type": "code",
   "execution_count": 3,
   "id": "7beb61b9",
   "metadata": {
    "execution": {
     "iopub.execute_input": "2022-12-20T15:00:19.728455Z",
     "iopub.status.busy": "2022-12-20T15:00:19.728191Z",
     "iopub.status.idle": "2022-12-20T15:00:19.730441Z",
     "shell.execute_reply": "2022-12-20T15:00:19.730069Z"
    }
   },
   "outputs": [],
   "source": [
    "prep = Preprocessor(log_level=logging.ERROR)"
   ]
  },
  {
   "cell_type": "code",
   "execution_count": 4,
   "id": "4e0e35b9",
   "metadata": {
    "execution": {
     "iopub.execute_input": "2022-12-20T15:00:19.732280Z",
     "iopub.status.busy": "2022-12-20T15:00:19.731925Z",
     "iopub.status.idle": "2022-12-20T15:00:19.849261Z",
     "shell.execute_reply": "2022-12-20T15:00:19.848804Z"
    }
   },
   "outputs": [
    {
     "name": "stderr",
     "output_type": "stream",
     "text": [
      "[nltk_data] Downloading package punkt to /home/snadi/nltk_data...\n",
      "[nltk_data]   Package punkt is already up-to-date!\n",
      "[nltk_data] Downloading package punkt to /home/snadi/nltk_data...\n",
      "[nltk_data]   Package punkt is already up-to-date!\n",
      "[nltk_data] Downloading package punkt to /home/snadi/nltk_data...\n",
      "[nltk_data]   Package punkt is already up-to-date!\n"
     ]
    }
   ],
   "source": [
    "# models = {\n",
    "#     \"doc2vec-size100\": D2VEmbedder(),\n",
    "#     \"doc2vec-size50\": D2VEmbedder(vector_size=50),\n",
    "#     \"doc2vec-dm0\": D2VEmbedder(dm=0),\n",
    "#     \"doc2vec-dm0-size50\": D2VEmbedder(vector_size=50, dm=0)\n",
    "# }\n",
    "# models = {\n",
    "#     \"doc2vec-vs100\": D2VEmbedder(),\n",
    "#     \"doc2vec-vs50\": D2VEmbedder(vector_size=50),\n",
    "#     \"doc2vec-vs20\": D2VEmbedder(vector_size=50)\n",
    "# }\n",
    "models = {\n",
    "\n",
    "    \"doc2vec-vs50\": D2VEmbedder(vector_size=50),\n",
    "    \"doc2vec-vs100\": D2VEmbedder(),\n",
    "    \"doc2vec-vs150\": D2VEmbedder(vector_size=150)\n",
    "}"
   ]
  },
  {
   "cell_type": "code",
   "execution_count": 5,
   "id": "825f3204",
   "metadata": {
    "execution": {
     "iopub.execute_input": "2022-12-20T15:00:19.851247Z",
     "iopub.status.busy": "2022-12-20T15:00:19.851067Z",
     "iopub.status.idle": "2022-12-20T19:59:08.880433Z",
     "shell.execute_reply": "2022-12-20T19:59:08.879127Z"
    }
   },
   "outputs": [
    {
     "name": "stderr",
     "output_type": "stream",
     "text": [
      " 95%|█████████▍| 54/57 [4:58:47<16:35, 331.99s/it] \n"
     ]
    },
    {
     "ename": "EOFError",
     "evalue": "Compressed file ended before the end-of-stream marker was reached",
     "output_type": "error",
     "traceback": [
      "\u001b[0;31m---------------------------------------------------------------------------\u001b[0m",
      "\u001b[0;31mEOFError\u001b[0m                                  Traceback (most recent call last)",
      "File \u001b[0;32m<timed exec>:11\u001b[0m\n",
      "File \u001b[0;32m/data/volume_2/docembedder/preprocessor/preprocessor.py:190\u001b[0m, in \u001b[0;36mPreprocessor.preprocess_file\u001b[0;34m(self, file)\u001b[0m\n\u001b[1;32m    187\u001b[0m skipped_no_year \u001b[38;5;241m=\u001b[39m \u001b[38;5;241m0\u001b[39m\n\u001b[1;32m    188\u001b[0m processed_patents \u001b[38;5;241m=\u001b[39m []\n\u001b[0;32m--> 190\u001b[0m \u001b[38;5;28;01mfor\u001b[39;00m patent \u001b[38;5;129;01min\u001b[39;00m \u001b[38;5;28mself\u001b[39m\u001b[38;5;241m.\u001b[39myield_document(file):\n\u001b[1;32m    191\u001b[0m     \u001b[38;5;28;01mif\u001b[39;00m patent[\u001b[38;5;124m'\u001b[39m\u001b[38;5;124myear\u001b[39m\u001b[38;5;124m'\u001b[39m] \u001b[38;5;241m==\u001b[39m \u001b[38;5;241m0\u001b[39m \u001b[38;5;129;01mor\u001b[39;00m patent[\u001b[38;5;124m'\u001b[39m\u001b[38;5;124myear\u001b[39m\u001b[38;5;124m'\u001b[39m] \u001b[38;5;129;01mis\u001b[39;00m \u001b[38;5;28;01mNone\u001b[39;00m:\n\u001b[1;32m    192\u001b[0m         \u001b[38;5;28mself\u001b[39m\u001b[38;5;241m.\u001b[39mlogger\u001b[38;5;241m.\u001b[39mwarning(\u001b[38;5;124m'\u001b[39m\u001b[38;5;124mPatent #\u001b[39m\u001b[38;5;132;01m%s\u001b[39;00m\u001b[38;5;124m has no year\u001b[39m\u001b[38;5;124m'\u001b[39m,\n\u001b[1;32m    193\u001b[0m                             \u001b[38;5;28mstr\u001b[39m(patent[\u001b[38;5;124m\"\u001b[39m\u001b[38;5;124mpatent\u001b[39m\u001b[38;5;124m\"\u001b[39m]))\n",
      "File \u001b[0;32m/data/volume_2/docembedder/preprocessor/preprocessor.py:178\u001b[0m, in \u001b[0;36mPreprocessor.patent_get_xz\u001b[0;34m(self, file)\u001b[0m\n\u001b[1;32m    176\u001b[0m \u001b[38;5;28;01mdef\u001b[39;00m \u001b[38;5;21mpatent_get_xz\u001b[39m(\u001b[38;5;28mself\u001b[39m, file: \u001b[38;5;28mstr\u001b[39m) \u001b[38;5;241m-\u001b[39m\u001b[38;5;241m>\u001b[39m Iterable[Dict]:\n\u001b[1;32m    177\u001b[0m     \u001b[38;5;124;03m\"\"\"Generate patents from a compressed xz file\"\"\"\u001b[39;00m\n\u001b[0;32m--> 178\u001b[0m     \u001b[38;5;28;01mfor\u001b[39;00m pat \u001b[38;5;129;01min\u001b[39;00m \u001b[43mread_xz\u001b[49m\u001b[43m(\u001b[49m\u001b[43mfile\u001b[49m\u001b[43m)\u001b[49m:\n\u001b[1;32m    179\u001b[0m         \u001b[38;5;28;01myield\u001b[39;00m pat\n",
      "File \u001b[0;32m/data/volume_2/docembedder/preprocessor/parser.py:124\u001b[0m, in \u001b[0;36mread_xz\u001b[0;34m(compressed_fp)\u001b[0m\n\u001b[1;32m    111\u001b[0m \u001b[38;5;124;03m\"\"\"Read an .xz file containing patents\u001b[39;00m\n\u001b[1;32m    112\u001b[0m \n\u001b[1;32m    113\u001b[0m \u001b[38;5;124;03mArguments\u001b[39;00m\n\u001b[0;32m   (...)\u001b[0m\n\u001b[1;32m    121\u001b[0m \u001b[38;5;124;03m    Patents in the file.\u001b[39;00m\n\u001b[1;32m    122\u001b[0m \u001b[38;5;124;03m\"\"\"\u001b[39;00m\n\u001b[1;32m    123\u001b[0m \u001b[38;5;28;01mwith\u001b[39;00m lzma\u001b[38;5;241m.\u001b[39mopen(compressed_fp, mode\u001b[38;5;241m=\u001b[39m\u001b[38;5;124m\"\u001b[39m\u001b[38;5;124mrb\u001b[39m\u001b[38;5;124m\"\u001b[39m) \u001b[38;5;28;01mas\u001b[39;00m handle:\n\u001b[0;32m--> 124\u001b[0m     patents \u001b[38;5;241m=\u001b[39m json\u001b[38;5;241m.\u001b[39mloads(\u001b[43mhandle\u001b[49m\u001b[38;5;241;43m.\u001b[39;49m\u001b[43mread\u001b[49m\u001b[43m(\u001b[49m\u001b[43m)\u001b[49m\u001b[38;5;241m.\u001b[39mdecode(encoding\u001b[38;5;241m=\u001b[39m\u001b[38;5;124m\"\u001b[39m\u001b[38;5;124mutf-8\u001b[39m\u001b[38;5;124m\"\u001b[39m))\n\u001b[1;32m    125\u001b[0m \u001b[38;5;28;01mreturn\u001b[39;00m patents\n",
      "File \u001b[0;32m/usr/lib/python3.8/lzma.py:200\u001b[0m, in \u001b[0;36mLZMAFile.read\u001b[0;34m(self, size)\u001b[0m\n\u001b[1;32m    194\u001b[0m \u001b[38;5;124;03m\"\"\"Read up to size uncompressed bytes from the file.\u001b[39;00m\n\u001b[1;32m    195\u001b[0m \n\u001b[1;32m    196\u001b[0m \u001b[38;5;124;03mIf size is negative or omitted, read until EOF is reached.\u001b[39;00m\n\u001b[1;32m    197\u001b[0m \u001b[38;5;124;03mReturns b\"\" if the file is already at EOF.\u001b[39;00m\n\u001b[1;32m    198\u001b[0m \u001b[38;5;124;03m\"\"\"\u001b[39;00m\n\u001b[1;32m    199\u001b[0m \u001b[38;5;28mself\u001b[39m\u001b[38;5;241m.\u001b[39m_check_can_read()\n\u001b[0;32m--> 200\u001b[0m \u001b[38;5;28;01mreturn\u001b[39;00m \u001b[38;5;28;43mself\u001b[39;49m\u001b[38;5;241;43m.\u001b[39;49m\u001b[43m_buffer\u001b[49m\u001b[38;5;241;43m.\u001b[39;49m\u001b[43mread\u001b[49m\u001b[43m(\u001b[49m\u001b[43msize\u001b[49m\u001b[43m)\u001b[49m\n",
      "File \u001b[0;32m/usr/lib/python3.8/_compression.py:99\u001b[0m, in \u001b[0;36mDecompressReader.read\u001b[0;34m(self, size)\u001b[0m\n\u001b[1;32m     97\u001b[0m     rawblock \u001b[38;5;241m=\u001b[39m \u001b[38;5;28mself\u001b[39m\u001b[38;5;241m.\u001b[39m_fp\u001b[38;5;241m.\u001b[39mread(BUFFER_SIZE)\n\u001b[1;32m     98\u001b[0m     \u001b[38;5;28;01mif\u001b[39;00m \u001b[38;5;129;01mnot\u001b[39;00m rawblock:\n\u001b[0;32m---> 99\u001b[0m         \u001b[38;5;28;01mraise\u001b[39;00m \u001b[38;5;167;01mEOFError\u001b[39;00m(\u001b[38;5;124m\"\u001b[39m\u001b[38;5;124mCompressed file ended before the \u001b[39m\u001b[38;5;124m\"\u001b[39m\n\u001b[1;32m    100\u001b[0m                        \u001b[38;5;124m\"\u001b[39m\u001b[38;5;124mend-of-stream marker was reached\u001b[39m\u001b[38;5;124m\"\u001b[39m)\n\u001b[1;32m    101\u001b[0m \u001b[38;5;28;01melse\u001b[39;00m:\n\u001b[1;32m    102\u001b[0m     rawblock \u001b[38;5;241m=\u001b[39m \u001b[38;5;124mb\u001b[39m\u001b[38;5;124m\"\u001b[39m\u001b[38;5;124m\"\u001b[39m\n",
      "\u001b[0;31mEOFError\u001b[0m: Compressed file ended before the end-of-stream marker was reached"
     ]
    }
   ],
   "source": [
    "%%time\n",
    "all_results = defaultdict(lambda: [])\n",
    "all_years = []\n",
    "n_patent_sample = 4000\n",
    "n_class_sample = 50000\n",
    "start_year, end_year = 1860, 1920\n",
    "\n",
    "for fp in tqdm(list(unprocessed_dir.glob(\"*.xz\"))):\n",
    "    year = int(fp.stem)\n",
    "    if year < start_year or year > end_year:\n",
    "        continue\n",
    "    patents, prep_stats = prep.preprocess_file(fp)\n",
    "    if year == 0 or len(patents) < 100:\n",
    "        continue\n",
    "        \n",
    "\n",
    "    results = classification_benchmark(patents, models, n_patents=n_patent_sample,\n",
    "                                       n_class_sample=n_class_sample)\n",
    "    all_years.append(year)\n",
    "    for model_name, res in results.items():\n",
    "        all_results[model_name].append(res)"
   ]
  },
  {
   "cell_type": "code",
   "execution_count": 6,
   "id": "c44266f4",
   "metadata": {
    "execution": {
     "iopub.execute_input": "2022-12-20T19:59:08.883280Z",
     "iopub.status.busy": "2022-12-20T19:59:08.882831Z",
     "iopub.status.idle": "2022-12-20T19:59:09.061003Z",
     "shell.execute_reply": "2022-12-20T19:59:09.060005Z"
    }
   },
   "outputs": [
    {
     "data": {
      "image/png": "[encoded data removed]",
      "text/plain": [
       "<Figure size 640x480 with 1 Axes>"
      ]
     },
     "metadata": {},
     "output_type": "display_data"
    }
   ],
   "source": [
    "for model_name, res in all_results.items():\n",
    "    plt.scatter(all_years, res, label=model_name)\n",
    "plt.legend()\n",
    "plt.show()"
   ]
  },
  {
   "cell_type": "code",
   "execution_count": 7,
   "id": "21e70fe6",
   "metadata": {
    "execution": {
     "iopub.execute_input": "2022-12-20T19:59:09.063758Z",
     "iopub.status.busy": "2022-12-20T19:59:09.063122Z",
     "iopub.status.idle": "2022-12-20T19:59:09.068197Z",
     "shell.execute_reply": "2022-12-20T19:59:09.067270Z"
    }
   },
   "outputs": [
    {
     "data": {
      "text/plain": [
       "{'doc2vec-vs50': 0.11334720174422641,\n",
       " 'doc2vec-vs100': 0.1065636228803414,\n",
       " 'doc2vec-vs150': 0.10424777417355754}"
      ]
     },
     "execution_count": 7,
     "metadata": {},
     "output_type": "execute_result"
    }
   ],
   "source": [
    "{name: np.mean(data) for name, data in all_results.items()}"
   ]
  },
  {
   "cell_type": "code",
   "execution_count": null,
   "id": "552ff986",
   "metadata": {},
   "outputs": [],
   "source": []
  }
 ],
 "metadata": {
  "kernelspec": {
   "display_name": "Python 3 (ipykernel)",
   "language": "python",
   "name": "python3"
  },
  "language_info": {
   "codemirror_mode": {
    "name": "ipython",
    "version": 3
   },
   "file_extension": ".py",
   "mimetype": "text/x-python",
   "name": "python",
   "nbconvert_exporter": "python",
   "pygments_lexer": "ipython3",
   "version": "3.7.0"
  }
 },
 "nbformat": 4,
 "nbformat_minor": 5
}
