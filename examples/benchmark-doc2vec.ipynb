{
 "cells": [
  {
   "cell_type": "code",
   "execution_count": 1,
   "id": "c798361e",
   "metadata": {},
   "outputs": [],
   "source": [
    "import logging\n",
    "logging.getLogger().setLevel(logging.ERROR)\n",
    "from pathlib import Path\n",
    "from collections import defaultdict\n",
    "\n",
    "import numpy as np\n",
    "from scipy import stats\n",
    "from tqdm import tqdm\n",
    "from matplotlib import pyplot as plt\n",
    "\n",
    "from docembedder.preprocessor.preprocessor import Preprocessor\n",
    "from docembedder.analysis import get_model_correlations, classification_benchmark\n",
    "from docembedder import BERTEmbedder, TfidfEmbedder, D2VEmbedder, BPembEmbedder"
   ]
  },
  {
   "cell_type": "code",
   "execution_count": 2,
   "id": "5595f070",
   "metadata": {},
   "outputs": [],
   "source": [
    "data_dir = Path(\"..\", \"data\")\n",
    "unprocessed_dir = data_dir / \"unprocessed\""
   ]
  },
  {
   "cell_type": "code",
   "execution_count": 3,
   "id": "7beb61b9",
   "metadata": {},
   "outputs": [],
   "source": [
    "prep = Preprocessor(log_level=logging.ERROR)"
   ]
  },
  {
   "cell_type": "code",
   "execution_count": 4,
   "id": "4e0e35b9",
   "metadata": {},
   "outputs": [
    {
     "name": "stderr",
     "output_type": "stream",
     "text": [
      "[nltk_data] Downloading package punkt to /Users/nadin001/nltk_data...\n",
      "[nltk_data]   Package punkt is already up-to-date!\n",
      "[nltk_data] Downloading package punkt to /Users/nadin001/nltk_data...\n",
      "[nltk_data]   Package punkt is already up-to-date!\n",
      "[nltk_data] Downloading package punkt to /Users/nadin001/nltk_data...\n",
      "[nltk_data]   Package punkt is already up-to-date!\n",
      "[nltk_data] Downloading package punkt to /Users/nadin001/nltk_data...\n",
      "[nltk_data]   Package punkt is already up-to-date!\n"
     ]
    }
   ],
   "source": [
    "models = {\n",
    "    \"doc2vec-size100\": D2VEmbedder(),\n",
    "    \"doc2vec-size200\": D2VEmbedder(vector_size=200),\n",
    "    \"doc2vec-dm0\": D2VEmbedder(dm=0),\n",
    "    \"doc2vec-dm0\": D2VEmbedder(vector_size=200, dm=0)\n",
    "}"
   ]
  },
  {
   "cell_type": "code",
   "execution_count": null,
   "id": "825f3204",
   "metadata": {},
   "outputs": [
    {
     "name": "stderr",
     "output_type": "stream",
     "text": [
      " 89%|███████████████████████████████████████████████████████████████████▎        | 101/114 [112:11:55<7:07:22, 1972.54s/it]"
     ]
    }
   ],
   "source": [
    "%%time\n",
    "all_results = defaultdict(lambda: [])\n",
    "all_years = []\n",
    "n_patent_sample = 4000\n",
    "n_class_sample = 50000\n",
    "start_year, end_year = 1860, 1920\n",
    "\n",
    "for fp in tqdm(list(unprocessed_dir.glob(\"*.xz\"))):\n",
    "    year = int(fp.stem)\n",
    "    if year < start_year or year > end_year:\n",
    "        continue\n",
    "    patents, prep_stats = prep.preprocess_file(fp)\n",
    "    if year == 0 or len(patents) < 100:\n",
    "        continue\n",
    "\n",
    "    results = classification_benchmark(patents, models, n_patents=n_patent_sample,\n",
    "                                       n_class_sample=n_class_sample)\n",
    "    all_years.append(year)\n",
    "    for model_name, res in results.items():\n",
    "        all_results[model_name].append(res)"
   ]
  },
  {
   "cell_type": "code",
   "execution_count": 6,
   "id": "c44266f4",
   "metadata": {},
   "outputs": [
    {
     "data": {
      "image/png": "[encoded data removed]",
      "text/plain": [
       "<Figure size 432x288 with 1 Axes>"
      ]
     },
     "metadata": {
      "needs_background": "light"
     },
     "output_type": "display_data"
    }
   ],
   "source": [
    "for model_name, res in all_results.items():\n",
    "    plt.scatter(all_years, res, label=model_name)\n",
    "plt.legend()\n",
    "plt.show()"
   ]
  },
  {
   "cell_type": "code",
   "execution_count": null,
   "id": "21e70fe6",
   "metadata": {},
   "outputs": [],
   "source": [
    "{name: np.mean(data) for name, data in all_results.items()}"
   ]
  }
 ],
 "metadata": {
  "kernelspec": {
   "display_name": "Python 3 (ipykernel)",
   "language": "python",
   "name": "python3"
  },
  "language_info": {
   "codemirror_mode": {
    "name": "ipython",
    "version": 3
   },
   "file_extension": ".py",
   "mimetype": "text/x-python",
   "name": "python",
   "nbconvert_exporter": "python",
   "pygments_lexer": "ipython3",
   "version": "3.7.0"
  }
 },
 "nbformat": 4,
 "nbformat_minor": 5
}
